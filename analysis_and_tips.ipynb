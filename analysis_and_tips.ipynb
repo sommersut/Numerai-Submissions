{
 "cells": [
  {
   "cell_type": "code",
   "execution_count": 1,
   "metadata": {},
   "outputs": [],
   "source": [
    "import matplotlib\n",
    "import numpy\n",
    "import pandas\n",
    "import random\n",
    "import sklearn\n",
    "import xgboost #!pip install xgboost\n",
    "import matplotlib.pyplot as plt\n",
    "%matplotlib inline\n",
    "\n",
    "from sklearn import (\n",
    "    feature_extraction, feature_selection, decomposition, linear_model,\n",
    "    model_selection, metrics, svm\n",
    ")\n",
    "\n",
    "#pandas.options.display.max_rows=1000\n",
    "#pandas.options.display.max_columns=300"
   ]
  },
  {
   "cell_type": "code",
   "execution_count": 2,
   "metadata": {},
   "outputs": [
    {
     "data": {
      "text/html": [
       "<div>\n",
       "<style scoped>\n",
       "    .dataframe tbody tr th:only-of-type {\n",
       "        vertical-align: middle;\n",
       "    }\n",
       "\n",
       "    .dataframe tbody tr th {\n",
       "        vertical-align: top;\n",
       "    }\n",
       "\n",
       "    .dataframe thead th {\n",
       "        text-align: right;\n",
       "    }\n",
       "</style>\n",
       "<table border=\"1\" class=\"dataframe\">\n",
       "  <thead>\n",
       "    <tr style=\"text-align: right;\">\n",
       "      <th></th>\n",
       "      <th>id</th>\n",
       "      <th>era</th>\n",
       "      <th>data_type</th>\n",
       "      <th>feature_intelligence1</th>\n",
       "      <th>feature_intelligence2</th>\n",
       "      <th>feature_intelligence3</th>\n",
       "      <th>feature_intelligence4</th>\n",
       "      <th>feature_intelligence5</th>\n",
       "      <th>feature_intelligence6</th>\n",
       "      <th>feature_intelligence7</th>\n",
       "      <th>...</th>\n",
       "      <th>feature_wisdom38</th>\n",
       "      <th>feature_wisdom39</th>\n",
       "      <th>feature_wisdom40</th>\n",
       "      <th>feature_wisdom41</th>\n",
       "      <th>feature_wisdom42</th>\n",
       "      <th>feature_wisdom43</th>\n",
       "      <th>feature_wisdom44</th>\n",
       "      <th>feature_wisdom45</th>\n",
       "      <th>feature_wisdom46</th>\n",
       "      <th>target</th>\n",
       "    </tr>\n",
       "  </thead>\n",
       "  <tbody>\n",
       "    <tr>\n",
       "      <th>0</th>\n",
       "      <td>n000315175b67977</td>\n",
       "      <td>era1</td>\n",
       "      <td>train</td>\n",
       "      <td>0.00</td>\n",
       "      <td>0.50</td>\n",
       "      <td>0.25</td>\n",
       "      <td>0.00</td>\n",
       "      <td>0.5</td>\n",
       "      <td>0.25</td>\n",
       "      <td>0.25</td>\n",
       "      <td>...</td>\n",
       "      <td>1.00</td>\n",
       "      <td>1.00</td>\n",
       "      <td>0.75</td>\n",
       "      <td>0.50</td>\n",
       "      <td>0.75</td>\n",
       "      <td>0.50</td>\n",
       "      <td>1.00</td>\n",
       "      <td>0.50</td>\n",
       "      <td>0.75</td>\n",
       "      <td>0.50</td>\n",
       "    </tr>\n",
       "    <tr>\n",
       "      <th>1</th>\n",
       "      <td>n0014af834a96cdd</td>\n",
       "      <td>era1</td>\n",
       "      <td>train</td>\n",
       "      <td>0.00</td>\n",
       "      <td>0.00</td>\n",
       "      <td>0.00</td>\n",
       "      <td>0.25</td>\n",
       "      <td>0.5</td>\n",
       "      <td>0.00</td>\n",
       "      <td>0.00</td>\n",
       "      <td>...</td>\n",
       "      <td>1.00</td>\n",
       "      <td>1.00</td>\n",
       "      <td>0.00</td>\n",
       "      <td>0.00</td>\n",
       "      <td>0.75</td>\n",
       "      <td>0.25</td>\n",
       "      <td>0.00</td>\n",
       "      <td>0.25</td>\n",
       "      <td>1.00</td>\n",
       "      <td>0.25</td>\n",
       "    </tr>\n",
       "    <tr>\n",
       "      <th>2</th>\n",
       "      <td>n001c93979ac41d4</td>\n",
       "      <td>era1</td>\n",
       "      <td>train</td>\n",
       "      <td>0.25</td>\n",
       "      <td>0.50</td>\n",
       "      <td>0.25</td>\n",
       "      <td>0.25</td>\n",
       "      <td>1.0</td>\n",
       "      <td>0.75</td>\n",
       "      <td>0.75</td>\n",
       "      <td>...</td>\n",
       "      <td>0.25</td>\n",
       "      <td>0.50</td>\n",
       "      <td>0.00</td>\n",
       "      <td>0.00</td>\n",
       "      <td>0.50</td>\n",
       "      <td>1.00</td>\n",
       "      <td>0.00</td>\n",
       "      <td>0.25</td>\n",
       "      <td>0.75</td>\n",
       "      <td>0.25</td>\n",
       "    </tr>\n",
       "    <tr>\n",
       "      <th>3</th>\n",
       "      <td>n0034e4143f22a13</td>\n",
       "      <td>era1</td>\n",
       "      <td>train</td>\n",
       "      <td>1.00</td>\n",
       "      <td>0.00</td>\n",
       "      <td>0.00</td>\n",
       "      <td>0.50</td>\n",
       "      <td>0.5</td>\n",
       "      <td>0.25</td>\n",
       "      <td>0.25</td>\n",
       "      <td>...</td>\n",
       "      <td>1.00</td>\n",
       "      <td>1.00</td>\n",
       "      <td>0.75</td>\n",
       "      <td>0.75</td>\n",
       "      <td>1.00</td>\n",
       "      <td>1.00</td>\n",
       "      <td>0.75</td>\n",
       "      <td>1.00</td>\n",
       "      <td>1.00</td>\n",
       "      <td>0.25</td>\n",
       "    </tr>\n",
       "    <tr>\n",
       "      <th>4</th>\n",
       "      <td>n00679d1a636062f</td>\n",
       "      <td>era1</td>\n",
       "      <td>train</td>\n",
       "      <td>0.25</td>\n",
       "      <td>0.25</td>\n",
       "      <td>0.25</td>\n",
       "      <td>0.25</td>\n",
       "      <td>0.0</td>\n",
       "      <td>0.25</td>\n",
       "      <td>0.50</td>\n",
       "      <td>...</td>\n",
       "      <td>0.75</td>\n",
       "      <td>0.75</td>\n",
       "      <td>0.25</td>\n",
       "      <td>0.50</td>\n",
       "      <td>0.75</td>\n",
       "      <td>0.00</td>\n",
       "      <td>0.50</td>\n",
       "      <td>0.25</td>\n",
       "      <td>0.75</td>\n",
       "      <td>0.75</td>\n",
       "    </tr>\n",
       "  </tbody>\n",
       "</table>\n",
       "<p>5 rows × 314 columns</p>\n",
       "</div>"
      ],
      "text/plain": [
       "                 id   era data_type  feature_intelligence1  \\\n",
       "0  n000315175b67977  era1     train                   0.00   \n",
       "1  n0014af834a96cdd  era1     train                   0.00   \n",
       "2  n001c93979ac41d4  era1     train                   0.25   \n",
       "3  n0034e4143f22a13  era1     train                   1.00   \n",
       "4  n00679d1a636062f  era1     train                   0.25   \n",
       "\n",
       "   feature_intelligence2  feature_intelligence3  feature_intelligence4  \\\n",
       "0                   0.50                   0.25                   0.00   \n",
       "1                   0.00                   0.00                   0.25   \n",
       "2                   0.50                   0.25                   0.25   \n",
       "3                   0.00                   0.00                   0.50   \n",
       "4                   0.25                   0.25                   0.25   \n",
       "\n",
       "   feature_intelligence5  feature_intelligence6  feature_intelligence7  ...  \\\n",
       "0                    0.5                   0.25                   0.25  ...   \n",
       "1                    0.5                   0.00                   0.00  ...   \n",
       "2                    1.0                   0.75                   0.75  ...   \n",
       "3                    0.5                   0.25                   0.25  ...   \n",
       "4                    0.0                   0.25                   0.50  ...   \n",
       "\n",
       "   feature_wisdom38  feature_wisdom39  feature_wisdom40  feature_wisdom41  \\\n",
       "0              1.00              1.00              0.75              0.50   \n",
       "1              1.00              1.00              0.00              0.00   \n",
       "2              0.25              0.50              0.00              0.00   \n",
       "3              1.00              1.00              0.75              0.75   \n",
       "4              0.75              0.75              0.25              0.50   \n",
       "\n",
       "   feature_wisdom42  feature_wisdom43  feature_wisdom44  feature_wisdom45  \\\n",
       "0              0.75              0.50              1.00              0.50   \n",
       "1              0.75              0.25              0.00              0.25   \n",
       "2              0.50              1.00              0.00              0.25   \n",
       "3              1.00              1.00              0.75              1.00   \n",
       "4              0.75              0.00              0.50              0.25   \n",
       "\n",
       "   feature_wisdom46  target  \n",
       "0              0.75    0.50  \n",
       "1              1.00    0.25  \n",
       "2              0.75    0.25  \n",
       "3              1.00    0.25  \n",
       "4              0.75    0.75  \n",
       "\n",
       "[5 rows x 314 columns]"
      ]
     },
     "execution_count": 2,
     "metadata": {},
     "output_type": "execute_result"
    }
   ],
   "source": [
    "df=pandas.read_csv(\"numerai_training_data.csv\")\n",
    "df.head()"
   ]
  },
  {
   "cell_type": "code",
   "execution_count": 3,
   "metadata": {},
   "outputs": [
    {
     "data": {
      "text/plain": [
       "(501808, 314)"
      ]
     },
     "execution_count": 3,
     "metadata": {},
     "output_type": "execute_result"
    }
   ],
   "source": [
    "# There are 501808 rows grouped into eras, and a single target (target)\n",
    "df.shape"
   ]
  },
  {
   "cell_type": "code",
   "execution_count": 4,
   "metadata": {},
   "outputs": [
    {
     "data": {
      "text/plain": [
       "310"
      ]
     },
     "execution_count": 4,
     "metadata": {},
     "output_type": "execute_result"
    }
   ],
   "source": [
    "# There's 310 features\n",
    "features = [c for c in df if c.startswith(\"feature\")]\n",
    "df[\"erano\"] = df.era.str.slice(3).astype(int)\n",
    "eras = df.erano\n",
    "target = \"target\"\n",
    "len(features)"
   ]
  },
  {
   "cell_type": "code",
   "execution_count": 5,
   "metadata": {},
   "outputs": [
    {
     "data": {
      "text/plain": [
       "{'intelligence': ['feature_intelligence1',\n",
       "  'feature_intelligence2',\n",
       "  'feature_intelligence3',\n",
       "  'feature_intelligence4',\n",
       "  'feature_intelligence5',\n",
       "  'feature_intelligence6',\n",
       "  'feature_intelligence7',\n",
       "  'feature_intelligence8',\n",
       "  'feature_intelligence9',\n",
       "  'feature_intelligence10',\n",
       "  'feature_intelligence11',\n",
       "  'feature_intelligence12'],\n",
       " 'wisdom': ['feature_wisdom1',\n",
       "  'feature_wisdom2',\n",
       "  'feature_wisdom3',\n",
       "  'feature_wisdom4',\n",
       "  'feature_wisdom5',\n",
       "  'feature_wisdom6',\n",
       "  'feature_wisdom7',\n",
       "  'feature_wisdom8',\n",
       "  'feature_wisdom9',\n",
       "  'feature_wisdom10',\n",
       "  'feature_wisdom11',\n",
       "  'feature_wisdom12',\n",
       "  'feature_wisdom13',\n",
       "  'feature_wisdom14',\n",
       "  'feature_wisdom15',\n",
       "  'feature_wisdom16',\n",
       "  'feature_wisdom17',\n",
       "  'feature_wisdom18',\n",
       "  'feature_wisdom19',\n",
       "  'feature_wisdom20',\n",
       "  'feature_wisdom21',\n",
       "  'feature_wisdom22',\n",
       "  'feature_wisdom23',\n",
       "  'feature_wisdom24',\n",
       "  'feature_wisdom25',\n",
       "  'feature_wisdom26',\n",
       "  'feature_wisdom27',\n",
       "  'feature_wisdom28',\n",
       "  'feature_wisdom29',\n",
       "  'feature_wisdom30',\n",
       "  'feature_wisdom31',\n",
       "  'feature_wisdom32',\n",
       "  'feature_wisdom33',\n",
       "  'feature_wisdom34',\n",
       "  'feature_wisdom35',\n",
       "  'feature_wisdom36',\n",
       "  'feature_wisdom37',\n",
       "  'feature_wisdom38',\n",
       "  'feature_wisdom39',\n",
       "  'feature_wisdom40',\n",
       "  'feature_wisdom41',\n",
       "  'feature_wisdom42',\n",
       "  'feature_wisdom43',\n",
       "  'feature_wisdom44',\n",
       "  'feature_wisdom45',\n",
       "  'feature_wisdom46'],\n",
       " 'charisma': ['feature_charisma1',\n",
       "  'feature_charisma2',\n",
       "  'feature_charisma3',\n",
       "  'feature_charisma4',\n",
       "  'feature_charisma5',\n",
       "  'feature_charisma6',\n",
       "  'feature_charisma7',\n",
       "  'feature_charisma8',\n",
       "  'feature_charisma9',\n",
       "  'feature_charisma10',\n",
       "  'feature_charisma11',\n",
       "  'feature_charisma12',\n",
       "  'feature_charisma13',\n",
       "  'feature_charisma14',\n",
       "  'feature_charisma15',\n",
       "  'feature_charisma16',\n",
       "  'feature_charisma17',\n",
       "  'feature_charisma18',\n",
       "  'feature_charisma19',\n",
       "  'feature_charisma20',\n",
       "  'feature_charisma21',\n",
       "  'feature_charisma22',\n",
       "  'feature_charisma23',\n",
       "  'feature_charisma24',\n",
       "  'feature_charisma25',\n",
       "  'feature_charisma26',\n",
       "  'feature_charisma27',\n",
       "  'feature_charisma28',\n",
       "  'feature_charisma29',\n",
       "  'feature_charisma30',\n",
       "  'feature_charisma31',\n",
       "  'feature_charisma32',\n",
       "  'feature_charisma33',\n",
       "  'feature_charisma34',\n",
       "  'feature_charisma35',\n",
       "  'feature_charisma36',\n",
       "  'feature_charisma37',\n",
       "  'feature_charisma38',\n",
       "  'feature_charisma39',\n",
       "  'feature_charisma40',\n",
       "  'feature_charisma41',\n",
       "  'feature_charisma42',\n",
       "  'feature_charisma43',\n",
       "  'feature_charisma44',\n",
       "  'feature_charisma45',\n",
       "  'feature_charisma46',\n",
       "  'feature_charisma47',\n",
       "  'feature_charisma48',\n",
       "  'feature_charisma49',\n",
       "  'feature_charisma50',\n",
       "  'feature_charisma51',\n",
       "  'feature_charisma52',\n",
       "  'feature_charisma53',\n",
       "  'feature_charisma54',\n",
       "  'feature_charisma55',\n",
       "  'feature_charisma56',\n",
       "  'feature_charisma57',\n",
       "  'feature_charisma58',\n",
       "  'feature_charisma59',\n",
       "  'feature_charisma60',\n",
       "  'feature_charisma61',\n",
       "  'feature_charisma62',\n",
       "  'feature_charisma63',\n",
       "  'feature_charisma64',\n",
       "  'feature_charisma65',\n",
       "  'feature_charisma66',\n",
       "  'feature_charisma67',\n",
       "  'feature_charisma68',\n",
       "  'feature_charisma69',\n",
       "  'feature_charisma70',\n",
       "  'feature_charisma71',\n",
       "  'feature_charisma72',\n",
       "  'feature_charisma73',\n",
       "  'feature_charisma74',\n",
       "  'feature_charisma75',\n",
       "  'feature_charisma76',\n",
       "  'feature_charisma77',\n",
       "  'feature_charisma78',\n",
       "  'feature_charisma79',\n",
       "  'feature_charisma80',\n",
       "  'feature_charisma81',\n",
       "  'feature_charisma82',\n",
       "  'feature_charisma83',\n",
       "  'feature_charisma84',\n",
       "  'feature_charisma85',\n",
       "  'feature_charisma86'],\n",
       " 'dexterity': ['feature_dexterity1',\n",
       "  'feature_dexterity2',\n",
       "  'feature_dexterity3',\n",
       "  'feature_dexterity4',\n",
       "  'feature_dexterity5',\n",
       "  'feature_dexterity6',\n",
       "  'feature_dexterity7',\n",
       "  'feature_dexterity8',\n",
       "  'feature_dexterity9',\n",
       "  'feature_dexterity10',\n",
       "  'feature_dexterity11',\n",
       "  'feature_dexterity12',\n",
       "  'feature_dexterity13',\n",
       "  'feature_dexterity14'],\n",
       " 'strength': ['feature_strength1',\n",
       "  'feature_strength2',\n",
       "  'feature_strength3',\n",
       "  'feature_strength4',\n",
       "  'feature_strength5',\n",
       "  'feature_strength6',\n",
       "  'feature_strength7',\n",
       "  'feature_strength8',\n",
       "  'feature_strength9',\n",
       "  'feature_strength10',\n",
       "  'feature_strength11',\n",
       "  'feature_strength12',\n",
       "  'feature_strength13',\n",
       "  'feature_strength14',\n",
       "  'feature_strength15',\n",
       "  'feature_strength16',\n",
       "  'feature_strength17',\n",
       "  'feature_strength18',\n",
       "  'feature_strength19',\n",
       "  'feature_strength20',\n",
       "  'feature_strength21',\n",
       "  'feature_strength22',\n",
       "  'feature_strength23',\n",
       "  'feature_strength24',\n",
       "  'feature_strength25',\n",
       "  'feature_strength26',\n",
       "  'feature_strength27',\n",
       "  'feature_strength28',\n",
       "  'feature_strength29',\n",
       "  'feature_strength30',\n",
       "  'feature_strength31',\n",
       "  'feature_strength32',\n",
       "  'feature_strength33',\n",
       "  'feature_strength34',\n",
       "  'feature_strength35',\n",
       "  'feature_strength36',\n",
       "  'feature_strength37',\n",
       "  'feature_strength38'],\n",
       " 'constitution': ['feature_constitution1',\n",
       "  'feature_constitution2',\n",
       "  'feature_constitution3',\n",
       "  'feature_constitution4',\n",
       "  'feature_constitution5',\n",
       "  'feature_constitution6',\n",
       "  'feature_constitution7',\n",
       "  'feature_constitution8',\n",
       "  'feature_constitution9',\n",
       "  'feature_constitution10',\n",
       "  'feature_constitution11',\n",
       "  'feature_constitution12',\n",
       "  'feature_constitution13',\n",
       "  'feature_constitution14',\n",
       "  'feature_constitution15',\n",
       "  'feature_constitution16',\n",
       "  'feature_constitution17',\n",
       "  'feature_constitution18',\n",
       "  'feature_constitution19',\n",
       "  'feature_constitution20',\n",
       "  'feature_constitution21',\n",
       "  'feature_constitution22',\n",
       "  'feature_constitution23',\n",
       "  'feature_constitution24',\n",
       "  'feature_constitution25',\n",
       "  'feature_constitution26',\n",
       "  'feature_constitution27',\n",
       "  'feature_constitution28',\n",
       "  'feature_constitution29',\n",
       "  'feature_constitution30',\n",
       "  'feature_constitution31',\n",
       "  'feature_constitution32',\n",
       "  'feature_constitution33',\n",
       "  'feature_constitution34',\n",
       "  'feature_constitution35',\n",
       "  'feature_constitution36',\n",
       "  'feature_constitution37',\n",
       "  'feature_constitution38',\n",
       "  'feature_constitution39',\n",
       "  'feature_constitution40',\n",
       "  'feature_constitution41',\n",
       "  'feature_constitution42',\n",
       "  'feature_constitution43',\n",
       "  'feature_constitution44',\n",
       "  'feature_constitution45',\n",
       "  'feature_constitution46',\n",
       "  'feature_constitution47',\n",
       "  'feature_constitution48',\n",
       "  'feature_constitution49',\n",
       "  'feature_constitution50',\n",
       "  'feature_constitution51',\n",
       "  'feature_constitution52',\n",
       "  'feature_constitution53',\n",
       "  'feature_constitution54',\n",
       "  'feature_constitution55',\n",
       "  'feature_constitution56',\n",
       "  'feature_constitution57',\n",
       "  'feature_constitution58',\n",
       "  'feature_constitution59',\n",
       "  'feature_constitution60',\n",
       "  'feature_constitution61',\n",
       "  'feature_constitution62',\n",
       "  'feature_constitution63',\n",
       "  'feature_constitution64',\n",
       "  'feature_constitution65',\n",
       "  'feature_constitution66',\n",
       "  'feature_constitution67',\n",
       "  'feature_constitution68',\n",
       "  'feature_constitution69',\n",
       "  'feature_constitution70',\n",
       "  'feature_constitution71',\n",
       "  'feature_constitution72',\n",
       "  'feature_constitution73',\n",
       "  'feature_constitution74',\n",
       "  'feature_constitution75',\n",
       "  'feature_constitution76',\n",
       "  'feature_constitution77',\n",
       "  'feature_constitution78',\n",
       "  'feature_constitution79',\n",
       "  'feature_constitution80',\n",
       "  'feature_constitution81',\n",
       "  'feature_constitution82',\n",
       "  'feature_constitution83',\n",
       "  'feature_constitution84',\n",
       "  'feature_constitution85',\n",
       "  'feature_constitution86',\n",
       "  'feature_constitution87',\n",
       "  'feature_constitution88',\n",
       "  'feature_constitution89',\n",
       "  'feature_constitution90',\n",
       "  'feature_constitution91',\n",
       "  'feature_constitution92',\n",
       "  'feature_constitution93',\n",
       "  'feature_constitution94',\n",
       "  'feature_constitution95',\n",
       "  'feature_constitution96',\n",
       "  'feature_constitution97',\n",
       "  'feature_constitution98',\n",
       "  'feature_constitution99',\n",
       "  'feature_constitution100',\n",
       "  'feature_constitution101',\n",
       "  'feature_constitution102',\n",
       "  'feature_constitution103',\n",
       "  'feature_constitution104',\n",
       "  'feature_constitution105',\n",
       "  'feature_constitution106',\n",
       "  'feature_constitution107',\n",
       "  'feature_constitution108',\n",
       "  'feature_constitution109',\n",
       "  'feature_constitution110',\n",
       "  'feature_constitution111',\n",
       "  'feature_constitution112',\n",
       "  'feature_constitution113',\n",
       "  'feature_constitution114']}"
      ]
     },
     "execution_count": 5,
     "metadata": {},
     "output_type": "execute_result"
    }
   ],
   "source": [
    "# The features are grouped together into 6 types\n",
    "feature_groups = {\n",
    "    g: [c for c in df if c.startswith(f\"feature_{g}\")]\n",
    "    for g in [\"intelligence\", \"wisdom\", \"charisma\", \"dexterity\", \"strength\", \"constitution\"]\n",
    "}\n",
    "feature_groups"
   ]
  },
  {
   "cell_type": "code",
   "execution_count": 6,
   "metadata": {},
   "outputs": [],
   "source": [
    "# The models should be scored based on the rank-correlation (spearman) with the target\n",
    "def numerai_score(y_true, y_pred):\n",
    "    rank_pred = y_pred.groupby(eras).apply(lambda x: x.rank(pct=True, method=\"first\"))\n",
    "    return numpy.corrcoef(y_true, rank_pred)[0,1]\n",
    "\n",
    "# It can also be convenient while working to evaluate based on the regular (pearson) correlation\n",
    "def correlation_score(y_true, y_pred):\n",
    "    return numpy.corrcoef(y_true, y_pred)[0,1]"
   ]
  },
  {
   "cell_type": "code",
   "execution_count": 7,
   "metadata": {},
   "outputs": [
    {
     "data": {
      "text/plain": [
       "count    501808.000000\n",
       "mean         64.001987\n",
       "std          33.332945\n",
       "min           1.000000\n",
       "25%          37.000000\n",
       "50%          64.000000\n",
       "75%          93.000000\n",
       "max         120.000000\n",
       "Name: erano, dtype: float64"
      ]
     },
     "execution_count": 7,
     "metadata": {},
     "output_type": "execute_result"
    }
   ],
   "source": [
    "# There are 120 eras numbered from 1 to 120\n",
    "eras.describe()"
   ]
  },
  {
   "cell_type": "code",
   "execution_count": 8,
   "metadata": {},
   "outputs": [
    {
     "data": {
      "text/plain": [
       "<AxesSubplot:xlabel='erano'>"
      ]
     },
     "execution_count": 8,
     "metadata": {},
     "output_type": "execute_result"
    },
    {
     "data": {
      "image/png": "[encoded data removed]",
      "text/plain": [
       "<Figure size 432x288 with 1 Axes>"
      ]
     },
     "metadata": {
      "needs_background": "light"
     },
     "output_type": "display_data"
    }
   ],
   "source": [
    "# The earlier eras are smaller, but generally each era is 4000-5000 rows\n",
    "df.groupby(eras).size().plot()"
   ]
  },
  {
   "cell_type": "code",
   "execution_count": 9,
   "metadata": {},
   "outputs": [
    {
     "data": {
      "text/plain": [
       "target\n",
       "0.00     25016\n",
       "0.25    100053\n",
       "0.50    251677\n",
       "0.75    100045\n",
       "1.00     25017\n",
       "dtype: int64"
      ]
     },
     "execution_count": 9,
     "metadata": {},
     "output_type": "execute_result"
    }
   ],
   "source": [
    "# The target is discrete and takes on 5 different values\n",
    "df.groupby(target).size()"
   ]
  },
  {
   "cell_type": "markdown",
   "metadata": {},
   "source": [
    "# Some of the features are very correlated\n",
    "Especially within feature groups"
   ]
  },
  {
   "cell_type": "code",
   "execution_count": 10,
   "metadata": {},
   "outputs": [],
   "source": [
    "feature_corrs = df[features].corr()"
   ]
  },
  {
   "cell_type": "code",
   "execution_count": 11,
   "metadata": {},
   "outputs": [
    {
     "data": {
      "text/plain": [
       "feature_intelligence1  feature_intelligence1    1.000000\n",
       "                       feature_intelligence2   -0.014157\n",
       "                       feature_intelligence3   -0.024404\n",
       "                       feature_intelligence4    0.652596\n",
       "                       feature_intelligence5    0.069868\n",
       "dtype: float64"
      ]
     },
     "execution_count": 11,
     "metadata": {},
     "output_type": "execute_result"
    }
   ],
   "source": [
    "feature_corrs.stack().head()"
   ]
  },
  {
   "cell_type": "code",
   "execution_count": 12,
   "metadata": {},
   "outputs": [
    {
     "data": {
      "text/plain": [
       "feature_constitution112  feature_constitution9    -0.855008\n",
       "feature_constitution33   feature_constitution46   -0.830310\n",
       "feature_constitution112  feature_constitution60   -0.820694\n",
       "feature_constitution46   feature_constitution87   -0.815888\n",
       "feature_constitution112  feature_constitution33   -0.759084\n",
       "                                                     ...   \n",
       "feature_constitution27   feature_constitution7     0.948920\n",
       "feature_constitution13   feature_constitution79    0.949139\n",
       "feature_wisdom31         feature_wisdom39          0.954984\n",
       "feature_wisdom46         feature_wisdom7           0.963706\n",
       "feature_wisdom12         feature_wisdom2           0.968062\n",
       "Length: 47895, dtype: float64"
      ]
     },
     "execution_count": 12,
     "metadata": {},
     "output_type": "execute_result"
    }
   ],
   "source": [
    "tdf = feature_corrs.stack()\n",
    "tdf = tdf[tdf.index.get_level_values(0) < tdf.index.get_level_values(1)]\n",
    "tdf.sort_values()"
   ]
  },
  {
   "cell_type": "markdown",
   "metadata": {},
   "source": [
    "### The correlation can change over time\n",
    "You can see this by comparing feature correlations on the first half and second half on the training set"
   ]
  },
  {
   "cell_type": "code",
   "execution_count": 13,
   "metadata": {},
   "outputs": [],
   "source": [
    "df1 = df[eras<=eras.median()]\n",
    "df2 = df[eras>eras.median()]"
   ]
  },
  {
   "cell_type": "code",
   "execution_count": 14,
   "metadata": {},
   "outputs": [],
   "source": [
    "corr1 = df1[features].corr().unstack()\n",
    "corr1 = corr1[corr1.index.get_level_values(0) < corr1.index.get_level_values(1)]"
   ]
  },
  {
   "cell_type": "code",
   "execution_count": 15,
   "metadata": {},
   "outputs": [],
   "source": [
    "corr2 = df2[features].corr().unstack()\n",
    "corr2 = corr2[corr2.index.get_level_values(0) < corr2.index.get_level_values(1)]"
   ]
  },
  {
   "cell_type": "code",
   "execution_count": 16,
   "metadata": {},
   "outputs": [
    {
     "data": {
      "text/html": [
       "<div>\n",
       "<style scoped>\n",
       "    .dataframe tbody tr th:only-of-type {\n",
       "        vertical-align: middle;\n",
       "    }\n",
       "\n",
       "    .dataframe tbody tr th {\n",
       "        vertical-align: top;\n",
       "    }\n",
       "\n",
       "    .dataframe thead th {\n",
       "        text-align: right;\n",
       "    }\n",
       "</style>\n",
       "<table border=\"1\" class=\"dataframe\">\n",
       "  <thead>\n",
       "    <tr style=\"text-align: right;\">\n",
       "      <th></th>\n",
       "      <th></th>\n",
       "      <th>corr1</th>\n",
       "      <th>corr2</th>\n",
       "      <th>corr_diff</th>\n",
       "    </tr>\n",
       "  </thead>\n",
       "  <tbody>\n",
       "    <tr>\n",
       "      <th>feature_intelligence11</th>\n",
       "      <th>feature_intelligence9</th>\n",
       "      <td>0.091352</td>\n",
       "      <td>-0.128851</td>\n",
       "      <td>-0.220203</td>\n",
       "    </tr>\n",
       "    <tr>\n",
       "      <th>feature_dexterity12</th>\n",
       "      <th>feature_intelligence10</th>\n",
       "      <td>0.548931</td>\n",
       "      <td>0.343117</td>\n",
       "      <td>-0.205814</td>\n",
       "    </tr>\n",
       "    <tr>\n",
       "      <th>feature_dexterity9</th>\n",
       "      <th>feature_intelligence11</th>\n",
       "      <td>0.078715</td>\n",
       "      <td>-0.127070</td>\n",
       "      <td>-0.205785</td>\n",
       "    </tr>\n",
       "    <tr>\n",
       "      <th>feature_dexterity1</th>\n",
       "      <th>feature_dexterity12</th>\n",
       "      <td>0.653528</td>\n",
       "      <td>0.447942</td>\n",
       "      <td>-0.205587</td>\n",
       "    </tr>\n",
       "    <tr>\n",
       "      <th>feature_intelligence10</th>\n",
       "      <th>feature_intelligence11</th>\n",
       "      <td>0.075022</td>\n",
       "      <td>-0.130511</td>\n",
       "      <td>-0.205534</td>\n",
       "    </tr>\n",
       "    <tr>\n",
       "      <th>...</th>\n",
       "      <th>...</th>\n",
       "      <td>...</td>\n",
       "      <td>...</td>\n",
       "      <td>...</td>\n",
       "    </tr>\n",
       "    <tr>\n",
       "      <th>feature_intelligence8</th>\n",
       "      <th>feature_wisdom22</th>\n",
       "      <td>-0.088346</td>\n",
       "      <td>0.117772</td>\n",
       "      <td>0.206119</td>\n",
       "    </tr>\n",
       "    <tr>\n",
       "      <th rowspan=\"2\" valign=\"top\">feature_intelligence4</th>\n",
       "      <th>feature_wisdom43</th>\n",
       "      <td>-0.102438</td>\n",
       "      <td>0.103758</td>\n",
       "      <td>0.206197</td>\n",
       "    </tr>\n",
       "    <tr>\n",
       "      <th>feature_wisdom33</th>\n",
       "      <td>-0.078930</td>\n",
       "      <td>0.133664</td>\n",
       "      <td>0.212593</td>\n",
       "    </tr>\n",
       "    <tr>\n",
       "      <th rowspan=\"2\" valign=\"top\">feature_intelligence8</th>\n",
       "      <th>feature_wisdom43</th>\n",
       "      <td>-0.121306</td>\n",
       "      <td>0.115194</td>\n",
       "      <td>0.236501</td>\n",
       "    </tr>\n",
       "    <tr>\n",
       "      <th>feature_wisdom33</th>\n",
       "      <td>-0.091759</td>\n",
       "      <td>0.150549</td>\n",
       "      <td>0.242308</td>\n",
       "    </tr>\n",
       "  </tbody>\n",
       "</table>\n",
       "<p>47895 rows × 3 columns</p>\n",
       "</div>"
      ],
      "text/plain": [
       "                                                  corr1     corr2  corr_diff\n",
       "feature_intelligence11 feature_intelligence9   0.091352 -0.128851  -0.220203\n",
       "feature_dexterity12    feature_intelligence10  0.548931  0.343117  -0.205814\n",
       "feature_dexterity9     feature_intelligence11  0.078715 -0.127070  -0.205785\n",
       "feature_dexterity1     feature_dexterity12     0.653528  0.447942  -0.205587\n",
       "feature_intelligence10 feature_intelligence11  0.075022 -0.130511  -0.205534\n",
       "...                                                 ...       ...        ...\n",
       "feature_intelligence8  feature_wisdom22       -0.088346  0.117772   0.206119\n",
       "feature_intelligence4  feature_wisdom43       -0.102438  0.103758   0.206197\n",
       "                       feature_wisdom33       -0.078930  0.133664   0.212593\n",
       "feature_intelligence8  feature_wisdom43       -0.121306  0.115194   0.236501\n",
       "                       feature_wisdom33       -0.091759  0.150549   0.242308\n",
       "\n",
       "[47895 rows x 3 columns]"
      ]
     },
     "execution_count": 16,
     "metadata": {},
     "output_type": "execute_result"
    }
   ],
   "source": [
    "tdf = pandas.DataFrame({\n",
    "    \"corr1\": corr1,\n",
    "    \"corr2\": corr2,\n",
    "})\n",
    "tdf[\"corr_diff\"] = tdf.corr2 - tdf.corr1\n",
    "tdf.sort_values(by=\"corr_diff\")"
   ]
  },
  {
   "cell_type": "markdown",
   "metadata": {},
   "source": [
    "## Some features are predictive on their own"
   ]
  },
  {
   "cell_type": "code",
   "execution_count": 17,
   "metadata": {},
   "outputs": [],
   "source": [
    "feature_scores = {\n",
    "    feature: numerai_score(df[target], df[feature])\n",
    "    for feature in features\n",
    "}"
   ]
  },
  {
   "cell_type": "code",
   "execution_count": 18,
   "metadata": {},
   "outputs": [
    {
     "data": {
      "text/plain": [
       "feature_dexterity7    -0.011505\n",
       "feature_dexterity6    -0.011162\n",
       "feature_dexterity4    -0.011051\n",
       "feature_charisma69    -0.010221\n",
       "feature_dexterity11   -0.010199\n",
       "                         ...   \n",
       "feature_charisma18     0.010698\n",
       "feature_charisma19     0.010716\n",
       "feature_charisma37     0.010892\n",
       "feature_strength14     0.011609\n",
       "feature_strength34     0.012488\n",
       "Length: 310, dtype: float64"
      ]
     },
     "execution_count": 18,
     "metadata": {},
     "output_type": "execute_result"
    }
   ],
   "source": [
    "pandas.Series(feature_scores).sort_values()"
   ]
  },
  {
   "cell_type": "code",
   "execution_count": 19,
   "metadata": {},
   "outputs": [
    {
     "data": {
      "text/plain": [
       "<AxesSubplot:>"
      ]
     },
     "execution_count": 19,
     "metadata": {},
     "output_type": "execute_result"
    },
    {
     "data": {
      "image/png": "[encoded data removed]",
      "text/plain": [
       "<Figure size 432x288 with 1 Axes>"
      ]
     },
     "metadata": {
      "needs_background": "light"
     },
     "output_type": "display_data"
    }
   ],
   "source": [
    "# Single features do not work consistently though\n",
    "by_era_correlation = pandas.Series({\n",
    "    era: numpy.corrcoef(tdf[target], tdf[\"feature_strength34\"])[0,1]\n",
    "    for era, tdf in df.groupby(eras)\n",
    "})\n",
    "by_era_correlation.plot()"
   ]
  },
  {
   "cell_type": "code",
   "execution_count": 20,
   "metadata": {},
   "outputs": [
    {
     "data": {
      "text/plain": [
       "<AxesSubplot:>"
      ]
     },
     "execution_count": 20,
     "metadata": {},
     "output_type": "execute_result"
    },
    {
     "data": {
      "image/png": "[encoded data removed]",
      "text/plain": [
       "<Figure size 432x288 with 1 Axes>"
      ]
     },
     "metadata": {
      "needs_background": "light"
     },
     "output_type": "display_data"
    }
   ],
   "source": [
    "# With a rolling 10 era average you can see some trends\n",
    "by_era_correlation.rolling(10).mean().plot()"
   ]
  },
  {
   "cell_type": "markdown",
   "metadata": {},
   "source": [
    "# Gotcha: MSE looks worse than correlation out of sample\n",
    "Models will generally be overconfident, so even if they are good at ranking rows, the Mean-Squared-Error of the residuals could be larger than event the Mean-Squared-Error of the target (r-squared<0)"
   ]
  },
  {
   "cell_type": "code",
   "execution_count": 21,
   "metadata": {},
   "outputs": [],
   "source": [
    "df1 = df[eras<=eras.median()]\n",
    "df2 = df[eras>eras.median()]"
   ]
  },
  {
   "cell_type": "code",
   "execution_count": 22,
   "metadata": {},
   "outputs": [
    {
     "data": {
      "text/plain": [
       "LinearRegression()"
      ]
     },
     "execution_count": 22,
     "metadata": {},
     "output_type": "execute_result"
    }
   ],
   "source": [
    "linear1 = linear_model.LinearRegression()\n",
    "linear1.fit(df1[features], df1[target])\n",
    "linear2 = linear_model.LinearRegression()\n",
    "linear2.fit(df2[features], df2[target])"
   ]
  },
  {
   "cell_type": "code",
   "execution_count": 23,
   "metadata": {},
   "outputs": [
    {
     "data": {
      "text/html": [
       "<div>\n",
       "<style scoped>\n",
       "    .dataframe tbody tr th:only-of-type {\n",
       "        vertical-align: middle;\n",
       "    }\n",
       "\n",
       "    .dataframe tbody tr th {\n",
       "        vertical-align: top;\n",
       "    }\n",
       "\n",
       "    .dataframe thead th {\n",
       "        text-align: right;\n",
       "    }\n",
       "</style>\n",
       "<table border=\"1\" class=\"dataframe\">\n",
       "  <thead>\n",
       "    <tr style=\"text-align: right;\">\n",
       "      <th></th>\n",
       "      <th>eval_on_1</th>\n",
       "      <th>eval_on_2</th>\n",
       "    </tr>\n",
       "  </thead>\n",
       "  <tbody>\n",
       "    <tr>\n",
       "      <th>train_on_1</th>\n",
       "      <td>0.004093</td>\n",
       "      <td>-0.000543</td>\n",
       "    </tr>\n",
       "    <tr>\n",
       "      <th>train_on_2</th>\n",
       "      <td>0.000575</td>\n",
       "      <td>0.003155</td>\n",
       "    </tr>\n",
       "  </tbody>\n",
       "</table>\n",
       "</div>"
      ],
      "text/plain": [
       "            eval_on_1  eval_on_2\n",
       "train_on_1   0.004093  -0.000543\n",
       "train_on_2   0.000575   0.003155"
      ]
     },
     "execution_count": 23,
     "metadata": {},
     "output_type": "execute_result"
    }
   ],
   "source": [
    "# Note in particular that the R-squared of (train_on_1, eval_on_2) is slightly negative!\n",
    "r2 = [\n",
    "    [\n",
    "        model.score(dfX[features], dfX[target])\n",
    "        for dfX in [df1, df2]\n",
    "    ]\n",
    "    for model in [linear1, linear2]\n",
    "]\n",
    "pandas.DataFrame(r2, columns=[\"eval_on_1\", \"eval_on_2\"], index=[\"train_on_1\", \"train_on_2\"])"
   ]
  },
  {
   "cell_type": "code",
   "execution_count": 24,
   "metadata": {},
   "outputs": [
    {
     "data": {
      "text/html": [
       "<div>\n",
       "<style scoped>\n",
       "    .dataframe tbody tr th:only-of-type {\n",
       "        vertical-align: middle;\n",
       "    }\n",
       "\n",
       "    .dataframe tbody tr th {\n",
       "        vertical-align: top;\n",
       "    }\n",
       "\n",
       "    .dataframe thead th {\n",
       "        text-align: right;\n",
       "    }\n",
       "</style>\n",
       "<table border=\"1\" class=\"dataframe\">\n",
       "  <thead>\n",
       "    <tr style=\"text-align: right;\">\n",
       "      <th></th>\n",
       "      <th>eval_on_1</th>\n",
       "      <th>eval_on_2</th>\n",
       "    </tr>\n",
       "  </thead>\n",
       "  <tbody>\n",
       "    <tr>\n",
       "      <th>train_on_1</th>\n",
       "      <td>0.062752</td>\n",
       "      <td>0.028026</td>\n",
       "    </tr>\n",
       "    <tr>\n",
       "      <th>train_on_2</th>\n",
       "      <td>0.032871</td>\n",
       "      <td>0.054796</td>\n",
       "    </tr>\n",
       "  </tbody>\n",
       "</table>\n",
       "</div>"
      ],
      "text/plain": [
       "            eval_on_1  eval_on_2\n",
       "train_on_1   0.062752   0.028026\n",
       "train_on_2   0.032871   0.054796"
      ]
     },
     "execution_count": 24,
     "metadata": {},
     "output_type": "execute_result"
    }
   ],
   "source": [
    "# Note in particular that the correlation of (train_on_1, eval_on_2) is quite decent\n",
    "corrs = [\n",
    "    [\n",
    "        numerai_score(dfX[target], pandas.Series(model.predict(dfX[features]), index=dfX.index))\n",
    "        for dfX in [df1, df2]\n",
    "    ]\n",
    "    for model in [linear1, linear2]\n",
    "]\n",
    "pandas.DataFrame(corrs, columns=[\"eval_on_1\", \"eval_on_2\"], index=[\"train_on_1\", \"train_on_2\"])"
   ]
  },
  {
   "cell_type": "code",
   "execution_count": 25,
   "metadata": {},
   "outputs": [],
   "source": [
    "# This can be be run with XGB as well"
   ]
  },
  {
   "cell_type": "code",
   "execution_count": 26,
   "metadata": {},
   "outputs": [
    {
     "data": {
      "text/plain": [
       "XGBRegressor(base_score=0.5, booster='gbtree', colsample_bylevel=1,\n",
       "             colsample_bynode=1, colsample_bytree=1, gamma=0, gpu_id=-1,\n",
       "             importance_type='gain', interaction_constraints='',\n",
       "             learning_rate=0.300000012, max_delta_step=0, max_depth=6,\n",
       "             min_child_weight=1, missing=nan, monotone_constraints='()',\n",
       "             n_estimators=100, n_jobs=12, num_parallel_tree=1, random_state=0,\n",
       "             reg_alpha=0, reg_lambda=1, scale_pos_weight=1, subsample=1,\n",
       "             tree_method='exact', validate_parameters=1, verbosity=None)"
      ]
     },
     "execution_count": 26,
     "metadata": {},
     "output_type": "execute_result"
    }
   ],
   "source": [
    "xgb1 = xgboost.XGBRegressor()\n",
    "xgb1.fit(df1[features], df1[target])\n",
    "xgb2 = xgboost.XGBRegressor()\n",
    "xgb2.fit(df2[features], df2[target])"
   ]
  },
  {
   "cell_type": "code",
   "execution_count": 27,
   "metadata": {},
   "outputs": [
    {
     "data": {
      "text/html": [
       "<div>\n",
       "<style scoped>\n",
       "    .dataframe tbody tr th:only-of-type {\n",
       "        vertical-align: middle;\n",
       "    }\n",
       "\n",
       "    .dataframe tbody tr th {\n",
       "        vertical-align: top;\n",
       "    }\n",
       "\n",
       "    .dataframe thead th {\n",
       "        text-align: right;\n",
       "    }\n",
       "</style>\n",
       "<table border=\"1\" class=\"dataframe\">\n",
       "  <thead>\n",
       "    <tr style=\"text-align: right;\">\n",
       "      <th></th>\n",
       "      <th>eval_on_1</th>\n",
       "      <th>eval_on_2</th>\n",
       "    </tr>\n",
       "  </thead>\n",
       "  <tbody>\n",
       "    <tr>\n",
       "      <th>train_on_1</th>\n",
       "      <td>0.123117</td>\n",
       "      <td>-0.023794</td>\n",
       "    </tr>\n",
       "    <tr>\n",
       "      <th>train_on_2</th>\n",
       "      <td>-0.019996</td>\n",
       "      <td>0.127880</td>\n",
       "    </tr>\n",
       "  </tbody>\n",
       "</table>\n",
       "</div>"
      ],
      "text/plain": [
       "            eval_on_1  eval_on_2\n",
       "train_on_1   0.123117  -0.023794\n",
       "train_on_2  -0.019996   0.127880"
      ]
     },
     "execution_count": 27,
     "metadata": {},
     "output_type": "execute_result"
    }
   ],
   "source": [
    "r2 = [\n",
    "    [\n",
    "        model.score(dfX[features], dfX[target])\n",
    "        for dfX in [df1, df2]\n",
    "    ]\n",
    "    for model in [xgb1, xgb2]\n",
    "]\n",
    "pandas.DataFrame(r2, columns=[\"eval_on_1\", \"eval_on_2\"], index=[\"train_on_1\", \"train_on_2\"])"
   ]
  },
  {
   "cell_type": "code",
   "execution_count": 28,
   "metadata": {},
   "outputs": [
    {
     "data": {
      "text/html": [
       "<div>\n",
       "<style scoped>\n",
       "    .dataframe tbody tr th:only-of-type {\n",
       "        vertical-align: middle;\n",
       "    }\n",
       "\n",
       "    .dataframe tbody tr th {\n",
       "        vertical-align: top;\n",
       "    }\n",
       "\n",
       "    .dataframe thead th {\n",
       "        text-align: right;\n",
       "    }\n",
       "</style>\n",
       "<table border=\"1\" class=\"dataframe\">\n",
       "  <thead>\n",
       "    <tr style=\"text-align: right;\">\n",
       "      <th></th>\n",
       "      <th>eval_on_1</th>\n",
       "      <th>eval_on_2</th>\n",
       "    </tr>\n",
       "  </thead>\n",
       "  <tbody>\n",
       "    <tr>\n",
       "      <th>train_on_1</th>\n",
       "      <td>0.403305</td>\n",
       "      <td>0.024816</td>\n",
       "    </tr>\n",
       "    <tr>\n",
       "      <th>train_on_2</th>\n",
       "      <td>0.022461</td>\n",
       "      <td>0.412005</td>\n",
       "    </tr>\n",
       "  </tbody>\n",
       "</table>\n",
       "</div>"
      ],
      "text/plain": [
       "            eval_on_1  eval_on_2\n",
       "train_on_1   0.403305   0.024816\n",
       "train_on_2   0.022461   0.412005"
      ]
     },
     "execution_count": 28,
     "metadata": {},
     "output_type": "execute_result"
    }
   ],
   "source": [
    "corrs = [\n",
    "    [\n",
    "        numerai_score(dfX[target], pandas.Series(model.predict(dfX[features]), index=dfX.index))\n",
    "        for dfX in [df1, df2]\n",
    "    ]\n",
    "    for model in [xgb1, xgb2]\n",
    "]\n",
    "pandas.DataFrame(corrs, columns=[\"eval_on_1\", \"eval_on_2\"], index=[\"train_on_1\", \"train_on_2\"])"
   ]
  },
  {
   "cell_type": "markdown",
   "metadata": {},
   "source": [
    "# Gotcha:  {0, 1} are noticeably different from {0.25, 0.75}\n",
    "This makes training a classifier one-versus-rest behave counterintuitively.\n",
    "\n",
    "Specifically, the 0-vs-rest and 1-vs-rest classifiers seem to learn how to pick out extreme targets, and their predictions are the most correlated"
   ]
  },
  {
   "cell_type": "code",
   "execution_count": 29,
   "metadata": {},
   "outputs": [
    {
     "name": "stderr",
     "output_type": "stream",
     "text": [
      "C:\\Users\\Danilo\\anaconda3\\lib\\site-packages\\sklearn\\linear_model\\_logistic.py:762: ConvergenceWarning: lbfgs failed to converge (status=1):\n",
      "STOP: TOTAL NO. of ITERATIONS REACHED LIMIT.\n",
      "\n",
      "Increase the number of iterations (max_iter) or scale the data as shown in:\n",
      "    https://scikit-learn.org/stable/modules/preprocessing.html\n",
      "Please also refer to the documentation for alternative solver options:\n",
      "    https://scikit-learn.org/stable/modules/linear_model.html#logistic-regression\n",
      "  n_iter_i = _check_optimize_result(\n"
     ]
    },
    {
     "data": {
      "text/plain": [
       "0.5012315467270351"
      ]
     },
     "execution_count": 29,
     "metadata": {},
     "output_type": "execute_result"
    }
   ],
   "source": [
    "# Train a standard logistic regression as a classifier\n",
    "logistic = linear_model.LogisticRegression()\n",
    "logistic.fit(df[features], (df[target]*4).astype(int))\n",
    "logistic.score(df[features], (df[target]*4).astype(int))"
   ]
  },
  {
   "cell_type": "code",
   "execution_count": 30,
   "metadata": {},
   "outputs": [
    {
     "data": {
      "text/plain": [
       "array([[ 1.        ,  0.46815493, -0.90388098,  0.42197025,  0.94725175],\n",
       "       [ 0.46815493,  1.        , -0.70471773,  0.51720705,  0.42842318],\n",
       "       [-0.90388098, -0.70471773,  1.        , -0.71843006, -0.9144177 ],\n",
       "       [ 0.42197025,  0.51720705, -0.71843006,  1.        ,  0.49885385],\n",
       "       [ 0.94725175,  0.42842318, -0.9144177 ,  0.49885385,  1.        ]])"
      ]
     },
     "execution_count": 30,
     "metadata": {},
     "output_type": "execute_result"
    },
    {
     "data": {
      "image/png": "[encoded data removed]",
      "text/plain": [
       "<Figure size 432x288 with 1 Axes>"
      ]
     },
     "metadata": {
      "needs_background": "light"
     },
     "output_type": "display_data"
    }
   ],
   "source": [
    "# The first and last class are highly correlated\n",
    "corrs=numpy.corrcoef(logistic.predict_proba(df[features]).T)\n",
    "plt.imshow(corrs, vmin=-1, vmax=1, cmap=\"RdYlGn\")\n",
    "corrs"
   ]
  },
  {
   "cell_type": "code",
   "execution_count": 31,
   "metadata": {},
   "outputs": [
    {
     "data": {
      "text/plain": [
       "0.050658916223109876"
      ]
     },
     "execution_count": 31,
     "metadata": {},
     "output_type": "execute_result"
    }
   ],
   "source": [
    "# In-sample correlation is 5.4%\n",
    "preds = pandas.Series(logistic.predict_proba(df[features]).dot(logistic.classes_), index=df.index)\n",
    "numerai_score(df[target], preds)"
   ]
  },
  {
   "cell_type": "code",
   "execution_count": 32,
   "metadata": {},
   "outputs": [
    {
     "data": {
      "text/plain": [
       "0.051078039018319435"
      ]
     },
     "execution_count": 32,
     "metadata": {},
     "output_type": "execute_result"
    }
   ],
   "source": [
    "# A standard linear model has a slightly higher correlation\n",
    "linear = linear_model.LinearRegression()\n",
    "linear.fit(df[features], df[target])\n",
    "linear.score(df[features], df[target])\n",
    "preds = pandas.Series(linear.predict(df[features]), index=df.index)\n",
    "numerai_score(df[target], preds)"
   ]
  },
  {
   "cell_type": "markdown",
   "metadata": {},
   "source": [
    "# Gotcha: eras are homogenous, but different from each other\n",
    "##  Random cross-validation will look much better than cross-validating by era\n",
    "\n",
    "Even for a simple linear model, taking a random shuffle reports a correlation of 4.3%, but a time series split reports a lower score of 3.4%"
   ]
  },
  {
   "cell_type": "code",
   "execution_count": 33,
   "metadata": {},
   "outputs": [],
   "source": [
    "crossvalidators = [\n",
    "    model_selection.KFold(5),\n",
    "    model_selection.KFold(5, shuffle=True),\n",
    "    model_selection.GroupKFold(5),\n",
    "    model_selection.TimeSeriesSplit(5)\n",
    "]"
   ]
  },
  {
   "cell_type": "code",
   "execution_count": 34,
   "metadata": {},
   "outputs": [],
   "source": [
    "def correlation_score(y_true, y_pred):\n",
    "    return numpy.corrcoef(y_true, y_pred)[0,1]"
   ]
  },
  {
   "cell_type": "code",
   "execution_count": 35,
   "metadata": {},
   "outputs": [
    {
     "name": "stdout",
     "output_type": "stream",
     "text": [
      "KFold(n_splits=5, random_state=None, shuffle=False)\n",
      "0.03332624500455208\n",
      "\n",
      "KFold(n_splits=5, random_state=None, shuffle=True)\n",
      "0.03915833649194047\n",
      "\n",
      "GroupKFold(n_splits=5)\n",
      "0.03475937229926106\n",
      "\n",
      "TimeSeriesSplit(max_train_size=None, n_splits=5)\n",
      "0.030947709608331164\n",
      "\n"
     ]
    }
   ],
   "source": [
    "for cv in crossvalidators:\n",
    "    print(cv)\n",
    "    print(numpy.mean(\n",
    "            model_selection.cross_val_score(\n",
    "            linear_model.LinearRegression(),\n",
    "            df[features],\n",
    "            df[target],\n",
    "            cv=cv,\n",
    "            n_jobs=1,\n",
    "            groups=eras,\n",
    "            scoring=metrics.make_scorer(correlation_score, greater_is_better=True)\n",
    "        )))\n",
    "    print()"
   ]
  },
  {
   "cell_type": "markdown",
   "metadata": {},
   "source": [
    "## Eras can be more or less applicable to other eras\n",
    "You can test this be splitting the eras into blocks of 10, training on each block, and evaluating on each other block."
   ]
  },
  {
   "cell_type": "code",
   "execution_count": 36,
   "metadata": {},
   "outputs": [
    {
     "data": {
      "text/plain": [
       "50     48186\n",
       "60     46831\n",
       "100    46107\n",
       "90     45609\n",
       "110    45070\n",
       "80     43971\n",
       "40     43439\n",
       "30     41101\n",
       "70     40403\n",
       "20     37444\n",
       "10     34600\n",
       "0      24515\n",
       "120     4532\n",
       "Name: erano, dtype: int64"
      ]
     },
     "execution_count": 36,
     "metadata": {},
     "output_type": "execute_result"
    }
   ],
   "source": [
    "eras10 = (eras // 10) * 10\n",
    "eras10.value_counts()"
   ]
  },
  {
   "cell_type": "code",
   "execution_count": 37,
   "metadata": {},
   "outputs": [
    {
     "name": "stdout",
     "output_type": "stream",
     "text": [
      "0\n",
      "10\n",
      "20\n",
      "30\n",
      "40\n",
      "50\n",
      "60\n",
      "70\n",
      "80\n",
      "90\n",
      "100\n",
      "110\n"
     ]
    }
   ],
   "source": [
    "results10 = []\n",
    "for train_era, tdf in df[eras10<120].groupby(eras10):\n",
    "    print(train_era)\n",
    "    model = linear_model.LinearRegression()\n",
    "    model.fit(tdf[features], tdf[target])\n",
    "    for test_era, tdf in df[eras10<120].groupby(eras10):\n",
    "        results10.append([\n",
    "            train_era,\n",
    "            test_era,\n",
    "            correlation_score(tdf[target], model.predict(tdf[features]))\n",
    "        ])"
   ]
  },
  {
   "cell_type": "code",
   "execution_count": 38,
   "metadata": {},
   "outputs": [
    {
     "data": {
      "text/html": [
       "<div>\n",
       "<style scoped>\n",
       "    .dataframe tbody tr th:only-of-type {\n",
       "        vertical-align: middle;\n",
       "    }\n",
       "\n",
       "    .dataframe tbody tr th {\n",
       "        vertical-align: top;\n",
       "    }\n",
       "\n",
       "    .dataframe thead th {\n",
       "        text-align: right;\n",
       "    }\n",
       "</style>\n",
       "<table border=\"1\" class=\"dataframe\">\n",
       "  <thead>\n",
       "    <tr style=\"text-align: right;\">\n",
       "      <th>test_era</th>\n",
       "      <th>0</th>\n",
       "      <th>10</th>\n",
       "      <th>20</th>\n",
       "      <th>30</th>\n",
       "      <th>40</th>\n",
       "      <th>50</th>\n",
       "      <th>60</th>\n",
       "      <th>70</th>\n",
       "      <th>80</th>\n",
       "      <th>90</th>\n",
       "      <th>100</th>\n",
       "      <th>110</th>\n",
       "    </tr>\n",
       "    <tr>\n",
       "      <th>train_era</th>\n",
       "      <th></th>\n",
       "      <th></th>\n",
       "      <th></th>\n",
       "      <th></th>\n",
       "      <th></th>\n",
       "      <th></th>\n",
       "      <th></th>\n",
       "      <th></th>\n",
       "      <th></th>\n",
       "      <th></th>\n",
       "      <th></th>\n",
       "      <th></th>\n",
       "    </tr>\n",
       "  </thead>\n",
       "  <tbody>\n",
       "    <tr>\n",
       "      <th>0</th>\n",
       "      <td>0.146150</td>\n",
       "      <td>0.032128</td>\n",
       "      <td>0.035403</td>\n",
       "      <td>0.028767</td>\n",
       "      <td>0.022198</td>\n",
       "      <td>0.007012</td>\n",
       "      <td>0.000146</td>\n",
       "      <td>0.031191</td>\n",
       "      <td>0.027708</td>\n",
       "      <td>0.031401</td>\n",
       "      <td>0.020473</td>\n",
       "      <td>0.000845</td>\n",
       "    </tr>\n",
       "    <tr>\n",
       "      <th>10</th>\n",
       "      <td>0.042176</td>\n",
       "      <td>0.114813</td>\n",
       "      <td>0.028706</td>\n",
       "      <td>0.029850</td>\n",
       "      <td>0.033694</td>\n",
       "      <td>0.004719</td>\n",
       "      <td>0.007919</td>\n",
       "      <td>0.022929</td>\n",
       "      <td>0.021418</td>\n",
       "      <td>0.030492</td>\n",
       "      <td>0.020959</td>\n",
       "      <td>0.014461</td>\n",
       "    </tr>\n",
       "    <tr>\n",
       "      <th>20</th>\n",
       "      <td>0.043150</td>\n",
       "      <td>0.033498</td>\n",
       "      <td>0.113055</td>\n",
       "      <td>0.036623</td>\n",
       "      <td>0.016749</td>\n",
       "      <td>0.005657</td>\n",
       "      <td>-0.000921</td>\n",
       "      <td>0.019247</td>\n",
       "      <td>0.012808</td>\n",
       "      <td>0.026045</td>\n",
       "      <td>0.022043</td>\n",
       "      <td>0.009032</td>\n",
       "    </tr>\n",
       "    <tr>\n",
       "      <th>30</th>\n",
       "      <td>0.035717</td>\n",
       "      <td>0.033931</td>\n",
       "      <td>0.039603</td>\n",
       "      <td>0.109884</td>\n",
       "      <td>0.040289</td>\n",
       "      <td>0.020827</td>\n",
       "      <td>0.016016</td>\n",
       "      <td>0.033713</td>\n",
       "      <td>0.026079</td>\n",
       "      <td>0.035938</td>\n",
       "      <td>0.013353</td>\n",
       "      <td>0.007314</td>\n",
       "    </tr>\n",
       "    <tr>\n",
       "      <th>40</th>\n",
       "      <td>0.035735</td>\n",
       "      <td>0.041718</td>\n",
       "      <td>0.020463</td>\n",
       "      <td>0.040350</td>\n",
       "      <td>0.100257</td>\n",
       "      <td>0.014421</td>\n",
       "      <td>0.008110</td>\n",
       "      <td>0.028111</td>\n",
       "      <td>0.023099</td>\n",
       "      <td>0.029045</td>\n",
       "      <td>0.012403</td>\n",
       "      <td>0.015087</td>\n",
       "    </tr>\n",
       "    <tr>\n",
       "      <th>50</th>\n",
       "      <td>0.015032</td>\n",
       "      <td>0.009597</td>\n",
       "      <td>0.006857</td>\n",
       "      <td>0.024269</td>\n",
       "      <td>0.015133</td>\n",
       "      <td>0.104185</td>\n",
       "      <td>0.011908</td>\n",
       "      <td>0.011568</td>\n",
       "      <td>0.004707</td>\n",
       "      <td>0.018199</td>\n",
       "      <td>0.012944</td>\n",
       "      <td>0.017232</td>\n",
       "    </tr>\n",
       "    <tr>\n",
       "      <th>60</th>\n",
       "      <td>0.006904</td>\n",
       "      <td>0.015985</td>\n",
       "      <td>0.004195</td>\n",
       "      <td>0.019559</td>\n",
       "      <td>0.012405</td>\n",
       "      <td>0.009676</td>\n",
       "      <td>0.101631</td>\n",
       "      <td>0.012528</td>\n",
       "      <td>0.009854</td>\n",
       "      <td>-0.001292</td>\n",
       "      <td>0.006891</td>\n",
       "      <td>0.011598</td>\n",
       "    </tr>\n",
       "    <tr>\n",
       "      <th>70</th>\n",
       "      <td>0.034285</td>\n",
       "      <td>0.025224</td>\n",
       "      <td>0.022038</td>\n",
       "      <td>0.028531</td>\n",
       "      <td>0.023215</td>\n",
       "      <td>0.001983</td>\n",
       "      <td>0.008260</td>\n",
       "      <td>0.121686</td>\n",
       "      <td>0.027489</td>\n",
       "      <td>0.029857</td>\n",
       "      <td>0.017433</td>\n",
       "      <td>0.003416</td>\n",
       "    </tr>\n",
       "    <tr>\n",
       "      <th>80</th>\n",
       "      <td>0.039583</td>\n",
       "      <td>0.026868</td>\n",
       "      <td>0.011519</td>\n",
       "      <td>0.021709</td>\n",
       "      <td>0.017747</td>\n",
       "      <td>0.002520</td>\n",
       "      <td>0.005699</td>\n",
       "      <td>0.027230</td>\n",
       "      <td>0.104300</td>\n",
       "      <td>0.028776</td>\n",
       "      <td>0.016033</td>\n",
       "      <td>0.006889</td>\n",
       "    </tr>\n",
       "    <tr>\n",
       "      <th>90</th>\n",
       "      <td>0.032820</td>\n",
       "      <td>0.029052</td>\n",
       "      <td>0.022923</td>\n",
       "      <td>0.031348</td>\n",
       "      <td>0.019984</td>\n",
       "      <td>0.010041</td>\n",
       "      <td>-0.004109</td>\n",
       "      <td>0.026778</td>\n",
       "      <td>0.023067</td>\n",
       "      <td>0.112866</td>\n",
       "      <td>0.017206</td>\n",
       "      <td>0.010063</td>\n",
       "    </tr>\n",
       "    <tr>\n",
       "      <th>100</th>\n",
       "      <td>0.028338</td>\n",
       "      <td>0.017983</td>\n",
       "      <td>0.021720</td>\n",
       "      <td>0.009919</td>\n",
       "      <td>0.007791</td>\n",
       "      <td>0.012095</td>\n",
       "      <td>0.007808</td>\n",
       "      <td>0.020565</td>\n",
       "      <td>0.010922</td>\n",
       "      <td>0.019488</td>\n",
       "      <td>0.100101</td>\n",
       "      <td>0.014869</td>\n",
       "    </tr>\n",
       "    <tr>\n",
       "      <th>110</th>\n",
       "      <td>0.001811</td>\n",
       "      <td>0.018358</td>\n",
       "      <td>0.009416</td>\n",
       "      <td>0.006702</td>\n",
       "      <td>0.014735</td>\n",
       "      <td>0.016499</td>\n",
       "      <td>0.011062</td>\n",
       "      <td>0.005973</td>\n",
       "      <td>0.008529</td>\n",
       "      <td>0.017795</td>\n",
       "      <td>0.013131</td>\n",
       "      <td>0.094399</td>\n",
       "    </tr>\n",
       "  </tbody>\n",
       "</table>\n",
       "</div>"
      ],
      "text/plain": [
       "test_era        0         10        20        30        40        50   \\\n",
       "train_era                                                               \n",
       "0          0.146150  0.032128  0.035403  0.028767  0.022198  0.007012   \n",
       "10         0.042176  0.114813  0.028706  0.029850  0.033694  0.004719   \n",
       "20         0.043150  0.033498  0.113055  0.036623  0.016749  0.005657   \n",
       "30         0.035717  0.033931  0.039603  0.109884  0.040289  0.020827   \n",
       "40         0.035735  0.041718  0.020463  0.040350  0.100257  0.014421   \n",
       "50         0.015032  0.009597  0.006857  0.024269  0.015133  0.104185   \n",
       "60         0.006904  0.015985  0.004195  0.019559  0.012405  0.009676   \n",
       "70         0.034285  0.025224  0.022038  0.028531  0.023215  0.001983   \n",
       "80         0.039583  0.026868  0.011519  0.021709  0.017747  0.002520   \n",
       "90         0.032820  0.029052  0.022923  0.031348  0.019984  0.010041   \n",
       "100        0.028338  0.017983  0.021720  0.009919  0.007791  0.012095   \n",
       "110        0.001811  0.018358  0.009416  0.006702  0.014735  0.016499   \n",
       "\n",
       "test_era        60        70        80        90        100       110  \n",
       "train_era                                                              \n",
       "0          0.000146  0.031191  0.027708  0.031401  0.020473  0.000845  \n",
       "10         0.007919  0.022929  0.021418  0.030492  0.020959  0.014461  \n",
       "20        -0.000921  0.019247  0.012808  0.026045  0.022043  0.009032  \n",
       "30         0.016016  0.033713  0.026079  0.035938  0.013353  0.007314  \n",
       "40         0.008110  0.028111  0.023099  0.029045  0.012403  0.015087  \n",
       "50         0.011908  0.011568  0.004707  0.018199  0.012944  0.017232  \n",
       "60         0.101631  0.012528  0.009854 -0.001292  0.006891  0.011598  \n",
       "70         0.008260  0.121686  0.027489  0.029857  0.017433  0.003416  \n",
       "80         0.005699  0.027230  0.104300  0.028776  0.016033  0.006889  \n",
       "90        -0.004109  0.026778  0.023067  0.112866  0.017206  0.010063  \n",
       "100        0.007808  0.020565  0.010922  0.019488  0.100101  0.014869  \n",
       "110        0.011062  0.005973  0.008529  0.017795  0.013131  0.094399  "
      ]
     },
     "execution_count": 38,
     "metadata": {},
     "output_type": "execute_result"
    }
   ],
   "source": [
    "results_df = pandas.DataFrame(\n",
    "    results10,\n",
    "    columns=[\"train_era\", \"test_era\", \"score\"]\n",
    ").pivot(index=\"train_era\", columns=\"test_era\", values=\"score\")\n",
    "results_df"
   ]
  },
  {
   "cell_type": "code",
   "execution_count": 39,
   "metadata": {},
   "outputs": [
    {
     "data": {
      "text/plain": [
       "<matplotlib.image.AxesImage at 0x2424be384f0>"
      ]
     },
     "execution_count": 39,
     "metadata": {},
     "output_type": "execute_result"
    },
    {
     "data": {
      "image/png": "[encoded data removed]",
      "text/plain": [
       "<Figure size 1080x1080 with 1 Axes>"
      ]
     },
     "metadata": {
      "needs_background": "light"
     },
     "output_type": "display_data"
    }
   ],
   "source": [
    "# Each row here is the training block of eras, each column is a testing block of eras.\n",
    "# Note that there is a period in the middle that does not seem to be relevant to other eras, and the\n",
    "#  overall performance seems to decrease a bit over time.\n",
    "plt.figure(figsize=(15,15))\n",
    "plt.imshow(results_df, vmin=-0.04, vmax=0.04, cmap=\"RdYlGn\")\n"
   ]
  },
  {
   "cell_type": "markdown",
   "metadata": {
    "pycharm": {
     "name": "#%% md\n"
    }
   },
   "source": [
    "Here is an advanced paper that talks about generalization.\n",
    "Eras can be thought about in the same way that \"distributions\" or \"environments\" are talked about here\n",
    "https://arxiv.org/pdf/1907.02893.pdf"
   ]
  },
  {
   "cell_type": "markdown",
   "metadata": {},
   "source": [
    "## Gotcha: Since the signal-to-noise ratio is so low, models can take many more iterations than expected, and have scarily high in-sample performance"
   ]
  },
  {
   "cell_type": "code",
   "execution_count": 40,
   "metadata": {},
   "outputs": [],
   "source": [
    "def our_score(preds, dtrain):\n",
    "    return \"score\", -numpy.corrcoef(preds, dtrain.get_label())[0,1]\n",
    "\n",
    "dtrain = xgboost.DMatrix(df1[features], df1[target])\n",
    "dtest = xgboost.DMatrix(df2[features], df2[target])\n",
    "dall = xgboost.DMatrix(df[features], df[target])"
   ]
  },
  {
   "cell_type": "code",
   "execution_count": 41,
   "metadata": {},
   "outputs": [
    {
     "name": "stdout",
     "output_type": "stream",
     "text": [
      "[15:20:08] WARNING: C:/Users/Administrator/workspace/xgboost-win64_release_1.3.0/src/objective/regression_obj.cu:170: reg:linear is now deprecated in favor of reg:squarederror.\n",
      "[15:20:08] WARNING: C:/Users/Administrator/workspace/xgboost-win64_release_1.3.0/src/learner.cc:541: \n",
      "Parameters: { silent } might not be used.\n",
      "\n",
      "  This may not be accurate due to some parameters are only used in language bindings but\n",
      "  passed down to XGBoost core.  Or some parameters are not used but slip through this\n",
      "  verification. Please open an issue if you find above cases.\n",
      "\n",
      "\n",
      "[0]\ttrain-rmse:0.22323\ttrain-score:-0.03421\ttest-rmse:0.22328\ttest-score:-0.01337\n",
      "[10]\ttrain-rmse:0.22306\ttrain-score:-0.05772\ttest-rmse:0.22322\ttest-score:-0.02571\n",
      "[20]\ttrain-rmse:0.22295\ttrain-score:-0.06850\ttest-rmse:0.22319\ttest-score:-0.02912\n",
      "[30]\ttrain-rmse:0.22285\ttrain-score:-0.07647\ttest-rmse:0.22318\ttest-score:-0.03066\n",
      "[40]\ttrain-rmse:0.22278\ttrain-score:-0.08137\ttest-rmse:0.22317\ttest-score:-0.03168\n",
      "[50]\ttrain-rmse:0.22270\ttrain-score:-0.08727\ttest-rmse:0.22317\ttest-score:-0.03208\n",
      "[60]\ttrain-rmse:0.22263\ttrain-score:-0.09160\ttest-rmse:0.22317\ttest-score:-0.03272\n",
      "[70]\ttrain-rmse:0.22256\ttrain-score:-0.09587\ttest-rmse:0.22317\ttest-score:-0.03313\n",
      "[80]\ttrain-rmse:0.22249\ttrain-score:-0.09952\ttest-rmse:0.22318\ttest-score:-0.03336\n",
      "[90]\ttrain-rmse:0.22244\ttrain-score:-0.10278\ttest-rmse:0.22318\ttest-score:-0.03366\n",
      "[100]\ttrain-rmse:0.22238\ttrain-score:-0.10637\ttest-rmse:0.22318\ttest-score:-0.03363\n",
      "[110]\ttrain-rmse:0.22232\ttrain-score:-0.10963\ttest-rmse:0.22319\ttest-score:-0.03394\n",
      "[120]\ttrain-rmse:0.22226\ttrain-score:-0.11294\ttest-rmse:0.22319\ttest-score:-0.03443\n",
      "[130]\ttrain-rmse:0.22221\ttrain-score:-0.11578\ttest-rmse:0.22319\ttest-score:-0.03468\n",
      "[140]\ttrain-rmse:0.22215\ttrain-score:-0.11908\ttest-rmse:0.22319\ttest-score:-0.03524\n",
      "[150]\ttrain-rmse:0.22210\ttrain-score:-0.12148\ttest-rmse:0.22320\ttest-score:-0.03503\n",
      "[160]\ttrain-rmse:0.22206\ttrain-score:-0.12405\ttest-rmse:0.22320\ttest-score:-0.03546\n",
      "[170]\ttrain-rmse:0.22201\ttrain-score:-0.12668\ttest-rmse:0.22320\ttest-score:-0.03574\n",
      "[180]\ttrain-rmse:0.22196\ttrain-score:-0.12913\ttest-rmse:0.22320\ttest-score:-0.03596\n",
      "[190]\ttrain-rmse:0.22191\ttrain-score:-0.13157\ttest-rmse:0.22320\ttest-score:-0.03633\n",
      "[200]\ttrain-rmse:0.22187\ttrain-score:-0.13387\ttest-rmse:0.22321\ttest-score:-0.03624\n",
      "[210]\ttrain-rmse:0.22182\ttrain-score:-0.13635\ttest-rmse:0.22321\ttest-score:-0.03637\n",
      "[220]\ttrain-rmse:0.22178\ttrain-score:-0.13836\ttest-rmse:0.22322\ttest-score:-0.03621\n",
      "[230]\ttrain-rmse:0.22173\ttrain-score:-0.14038\ttest-rmse:0.22322\ttest-score:-0.03635\n",
      "[240]\ttrain-rmse:0.22169\ttrain-score:-0.14232\ttest-rmse:0.22323\ttest-score:-0.03635\n",
      "[250]\ttrain-rmse:0.22165\ttrain-score:-0.14387\ttest-rmse:0.22323\ttest-score:-0.03636\n",
      "[260]\ttrain-rmse:0.22161\ttrain-score:-0.14576\ttest-rmse:0.22324\ttest-score:-0.03623\n",
      "[270]\ttrain-rmse:0.22156\ttrain-score:-0.14767\ttest-rmse:0.22325\ttest-score:-0.03626\n",
      "[280]\ttrain-rmse:0.22152\ttrain-score:-0.14902\ttest-rmse:0.22326\ttest-score:-0.03597\n",
      "[290]\ttrain-rmse:0.22148\ttrain-score:-0.15081\ttest-rmse:0.22326\ttest-score:-0.03587\n",
      "[300]\ttrain-rmse:0.22144\ttrain-score:-0.15259\ttest-rmse:0.22327\ttest-score:-0.03576\n",
      "[310]\ttrain-rmse:0.22140\ttrain-score:-0.15450\ttest-rmse:0.22327\ttest-score:-0.03581\n",
      "[320]\ttrain-rmse:0.22137\ttrain-score:-0.15659\ttest-rmse:0.22328\ttest-score:-0.03549\n",
      "[330]\ttrain-rmse:0.22132\ttrain-score:-0.15834\ttest-rmse:0.22329\ttest-score:-0.03548\n",
      "[340]\ttrain-rmse:0.22128\ttrain-score:-0.16029\ttest-rmse:0.22329\ttest-score:-0.03571\n",
      "[350]\ttrain-rmse:0.22124\ttrain-score:-0.16232\ttest-rmse:0.22329\ttest-score:-0.03571\n",
      "[360]\ttrain-rmse:0.22120\ttrain-score:-0.16354\ttest-rmse:0.22330\ttest-score:-0.03562\n",
      "[370]\ttrain-rmse:0.22117\ttrain-score:-0.16496\ttest-rmse:0.22330\ttest-score:-0.03580\n",
      "[380]\ttrain-rmse:0.22113\ttrain-score:-0.16652\ttest-rmse:0.22331\ttest-score:-0.03590\n",
      "[390]\ttrain-rmse:0.22109\ttrain-score:-0.16819\ttest-rmse:0.22332\ttest-score:-0.03567\n",
      "[400]\ttrain-rmse:0.22105\ttrain-score:-0.16960\ttest-rmse:0.22332\ttest-score:-0.03559\n",
      "[410]\ttrain-rmse:0.22101\ttrain-score:-0.17111\ttest-rmse:0.22333\ttest-score:-0.03575\n",
      "[420]\ttrain-rmse:0.22098\ttrain-score:-0.17264\ttest-rmse:0.22333\ttest-score:-0.03562\n",
      "[430]\ttrain-rmse:0.22094\ttrain-score:-0.17415\ttest-rmse:0.22334\ttest-score:-0.03558\n",
      "[440]\ttrain-rmse:0.22090\ttrain-score:-0.17559\ttest-rmse:0.22334\ttest-score:-0.03553\n",
      "[450]\ttrain-rmse:0.22087\ttrain-score:-0.17715\ttest-rmse:0.22335\ttest-score:-0.03540\n",
      "[460]\ttrain-rmse:0.22083\ttrain-score:-0.17847\ttest-rmse:0.22335\ttest-score:-0.03546\n",
      "[470]\ttrain-rmse:0.22079\ttrain-score:-0.17975\ttest-rmse:0.22336\ttest-score:-0.03543\n",
      "[480]\ttrain-rmse:0.22076\ttrain-score:-0.18114\ttest-rmse:0.22337\ttest-score:-0.03543\n",
      "[490]\ttrain-rmse:0.22072\ttrain-score:-0.18249\ttest-rmse:0.22337\ttest-score:-0.03549\n",
      "[500]\ttrain-rmse:0.22068\ttrain-score:-0.18395\ttest-rmse:0.22337\ttest-score:-0.03566\n",
      "[510]\ttrain-rmse:0.22065\ttrain-score:-0.18539\ttest-rmse:0.22337\ttest-score:-0.03570\n",
      "[520]\ttrain-rmse:0.22061\ttrain-score:-0.18669\ttest-rmse:0.22338\ttest-score:-0.03584\n",
      "[530]\ttrain-rmse:0.22058\ttrain-score:-0.18787\ttest-rmse:0.22338\ttest-score:-0.03580\n",
      "[540]\ttrain-rmse:0.22054\ttrain-score:-0.18903\ttest-rmse:0.22339\ttest-score:-0.03572\n",
      "[550]\ttrain-rmse:0.22051\ttrain-score:-0.19037\ttest-rmse:0.22340\ttest-score:-0.03568\n",
      "[560]\ttrain-rmse:0.22048\ttrain-score:-0.19151\ttest-rmse:0.22340\ttest-score:-0.03572\n",
      "[570]\ttrain-rmse:0.22044\ttrain-score:-0.19256\ttest-rmse:0.22341\ttest-score:-0.03576\n",
      "[580]\ttrain-rmse:0.22041\ttrain-score:-0.19365\ttest-rmse:0.22341\ttest-score:-0.03567\n",
      "[590]\ttrain-rmse:0.22037\ttrain-score:-0.19505\ttest-rmse:0.22342\ttest-score:-0.03566\n",
      "[600]\ttrain-rmse:0.22034\ttrain-score:-0.19599\ttest-rmse:0.22342\ttest-score:-0.03558\n",
      "[610]\ttrain-rmse:0.22031\ttrain-score:-0.19714\ttest-rmse:0.22343\ttest-score:-0.03547\n",
      "[620]\ttrain-rmse:0.22028\ttrain-score:-0.19823\ttest-rmse:0.22343\ttest-score:-0.03560\n",
      "[630]\ttrain-rmse:0.22024\ttrain-score:-0.19968\ttest-rmse:0.22343\ttest-score:-0.03576\n",
      "[640]\ttrain-rmse:0.22021\ttrain-score:-0.20092\ttest-rmse:0.22344\ttest-score:-0.03553\n",
      "[650]\ttrain-rmse:0.22017\ttrain-score:-0.20221\ttest-rmse:0.22344\ttest-score:-0.03585\n",
      "[660]\ttrain-rmse:0.22014\ttrain-score:-0.20350\ttest-rmse:0.22345\ttest-score:-0.03581\n",
      "[670]\ttrain-rmse:0.22011\ttrain-score:-0.20437\ttest-rmse:0.22345\ttest-score:-0.03584\n",
      "[680]\ttrain-rmse:0.22008\ttrain-score:-0.20543\ttest-rmse:0.22346\ttest-score:-0.03580\n",
      "[690]\ttrain-rmse:0.22005\ttrain-score:-0.20630\ttest-rmse:0.22346\ttest-score:-0.03573\n",
      "[700]\ttrain-rmse:0.22001\ttrain-score:-0.20736\ttest-rmse:0.22347\ttest-score:-0.03563\n",
      "[710]\ttrain-rmse:0.21998\ttrain-score:-0.20863\ttest-rmse:0.22348\ttest-score:-0.03541\n",
      "[720]\ttrain-rmse:0.21995\ttrain-score:-0.20969\ttest-rmse:0.22348\ttest-score:-0.03545\n",
      "[730]\ttrain-rmse:0.21991\ttrain-score:-0.21077\ttest-rmse:0.22348\ttest-score:-0.03568\n",
      "[740]\ttrain-rmse:0.21988\ttrain-score:-0.21187\ttest-rmse:0.22349\ttest-score:-0.03566\n",
      "[750]\ttrain-rmse:0.21985\ttrain-score:-0.21317\ttest-rmse:0.22350\ttest-score:-0.03535\n",
      "[760]\ttrain-rmse:0.21981\ttrain-score:-0.21398\ttest-rmse:0.22350\ttest-score:-0.03552\n",
      "[770]\ttrain-rmse:0.21978\ttrain-score:-0.21500\ttest-rmse:0.22350\ttest-score:-0.03570\n",
      "[780]\ttrain-rmse:0.21975\ttrain-score:-0.21602\ttest-rmse:0.22351\ttest-score:-0.03568\n",
      "[790]\ttrain-rmse:0.21972\ttrain-score:-0.21738\ttest-rmse:0.22351\ttest-score:-0.03551\n",
      "[800]\ttrain-rmse:0.21969\ttrain-score:-0.21860\ttest-rmse:0.22352\ttest-score:-0.03541\n",
      "[810]\ttrain-rmse:0.21965\ttrain-score:-0.21950\ttest-rmse:0.22352\ttest-score:-0.03541\n",
      "[820]\ttrain-rmse:0.21962\ttrain-score:-0.22059\ttest-rmse:0.22353\ttest-score:-0.03552\n",
      "[830]\ttrain-rmse:0.21959\ttrain-score:-0.22165\ttest-rmse:0.22353\ttest-score:-0.03551\n",
      "[840]\ttrain-rmse:0.21956\ttrain-score:-0.22250\ttest-rmse:0.22353\ttest-score:-0.03558\n",
      "[850]\ttrain-rmse:0.21953\ttrain-score:-0.22344\ttest-rmse:0.22354\ttest-score:-0.03548\n",
      "[860]\ttrain-rmse:0.21950\ttrain-score:-0.22424\ttest-rmse:0.22355\ttest-score:-0.03538\n",
      "[870]\ttrain-rmse:0.21947\ttrain-score:-0.22527\ttest-rmse:0.22356\ttest-score:-0.03525\n",
      "[880]\ttrain-rmse:0.21944\ttrain-score:-0.22610\ttest-rmse:0.22357\ttest-score:-0.03519\n",
      "[890]\ttrain-rmse:0.21941\ttrain-score:-0.22688\ttest-rmse:0.22357\ttest-score:-0.03511\n",
      "[900]\ttrain-rmse:0.21938\ttrain-score:-0.22806\ttest-rmse:0.22357\ttest-score:-0.03516\n",
      "[910]\ttrain-rmse:0.21935\ttrain-score:-0.22904\ttest-rmse:0.22358\ttest-score:-0.03522\n",
      "[920]\ttrain-rmse:0.21932\ttrain-score:-0.22994\ttest-rmse:0.22358\ttest-score:-0.03511\n",
      "[930]\ttrain-rmse:0.21929\ttrain-score:-0.23070\ttest-rmse:0.22359\ttest-score:-0.03498\n",
      "[940]\ttrain-rmse:0.21926\ttrain-score:-0.23174\ttest-rmse:0.22360\ttest-score:-0.03480\n",
      "[950]\ttrain-rmse:0.21923\ttrain-score:-0.23264\ttest-rmse:0.22360\ttest-score:-0.03481\n",
      "[960]\ttrain-rmse:0.21920\ttrain-score:-0.23359\ttest-rmse:0.22361\ttest-score:-0.03463\n",
      "[970]\ttrain-rmse:0.21917\ttrain-score:-0.23441\ttest-rmse:0.22362\ttest-score:-0.03448\n",
      "[980]\ttrain-rmse:0.21914\ttrain-score:-0.23510\ttest-rmse:0.22362\ttest-score:-0.03447\n",
      "[990]\ttrain-rmse:0.21911\ttrain-score:-0.23615\ttest-rmse:0.22363\ttest-score:-0.03448\n",
      "[999]\ttrain-rmse:0.21909\ttrain-score:-0.23697\ttest-rmse:0.22363\ttest-score:-0.03443\n"
     ]
    },
    {
     "data": {
      "text/plain": [
       "<AxesSubplot:>"
      ]
     },
     "execution_count": 41,
     "metadata": {},
     "output_type": "execute_result"
    },
    {
     "data": {
      "image/png": "[encoded data removed]",
      "text/plain": [
       "<Figure size 432x288 with 1 Axes>"
      ]
     },
     "metadata": {
      "needs_background": "light"
     },
     "output_type": "display_data"
    }
   ],
   "source": [
    "param = {\n",
    "    'max_depth':3,\n",
    "    'eta':0.1,\n",
    "    'silent':1,\n",
    "    'objective':'reg:linear',\n",
    "    'eval_metric':'rmse',\n",
    "    'nthread': -1,\n",
    "}\n",
    "evals_result = {}\n",
    "bst = xgboost.train(\n",
    "    params=param,\n",
    "    dtrain=dtrain,\n",
    "    feval=our_score,\n",
    "    num_boost_round=1000,\n",
    "    evals=[(dtrain, 'train'), (dtest, 'test')],\n",
    "    evals_result=evals_result,\n",
    "    verbose_eval=10,\n",
    ")\n",
    "\n",
    "(0.5 - 0.57*pandas.DataFrame({k: v['score'] for k,v in evals_result.items()})).plot()"
   ]
  },
  {
   "cell_type": "code",
   "execution_count": 42,
   "metadata": {},
   "outputs": [
    {
     "data": {
      "text/plain": [
       "<AxesSubplot:>"
      ]
     },
     "execution_count": 42,
     "metadata": {},
     "output_type": "execute_result"
    },
    {
     "data": {
      "image/png": "[encoded data removed]",
      "text/plain": [
       "<Figure size 432x288 with 1 Axes>"
      ]
     },
     "metadata": {
      "needs_background": "light"
     },
     "output_type": "display_data"
    }
   ],
   "source": [
    "(-pandas.DataFrame({k: v['score'] for k,v in evals_result.items()})).plot(ylim=[0,0.045])"
   ]
  },
  {
   "cell_type": "markdown",
   "metadata": {},
   "source": [
    "# The results are sensitive to the choice of parameters, which should be picked through cross-validation"
   ]
  },
  {
   "cell_type": "code",
   "execution_count": 43,
   "metadata": {},
   "outputs": [],
   "source": [
    "df1 = df[eras<=eras.median()]\n",
    "df2 = df[eras>eras.median()]"
   ]
  },
  {
   "cell_type": "code",
   "execution_count": 44,
   "metadata": {},
   "outputs": [],
   "source": [
    "models = [\n",
    "    linear_model.LinearRegression(),\n",
    "] + [\n",
    "    linear_model.ElasticNet(alpha=alpha)\n",
    "    for alpha in [0.01, 0.005, 0.002, 0.001, 0.0005, 0.0002, 0.0001, 0.00005, 0.00002, 0.00001]\n",
    "] + [\n",
    "    xgboost.XGBRegressor(n_jobs=-1),\n",
    "    xgboost.XGBRegressor(n_jobs=-1, learning_rate=0.01, n_estimators=1000),\n",
    "    xgboost.XGBRegressor(n_jobs=-1, colsample_bytree=0.1, learning_rate=0.01, n_estimators=1000),\n",
    "    xgboost.XGBRegressor(n_jobs=-1, colsample_bytree=0.1, learning_rate=0.01, n_estimators=1000, max_depth=5),\n",
    "    xgboost.XGBRegressor(n_jobs=-1, colsample_bytree=0.1, learning_rate=0.001, n_estimators=10000, max_depth=5),\n",
    "]"
   ]
  },
  {
   "cell_type": "code",
   "execution_count": 45,
   "metadata": {},
   "outputs": [
    {
     "name": "stdout",
     "output_type": "stream",
     "text": [
      " --  LinearRegression()\n",
      "outsample: 0.02802559920733915, insample: 0.06275168899240202\n",
      "\n",
      " --  ElasticNet(alpha=0.01)\n",
      "outsample: 0.0009542737561177458, insample: 0.00295817720841161\n",
      "\n",
      " --  ElasticNet(alpha=0.005)\n",
      "outsample: 0.0009542737561177458, insample: 0.00295817720841161\n",
      "\n",
      " --  ElasticNet(alpha=0.002)\n",
      "outsample: 0.013745176938453766, insample: 0.028880670726415834\n",
      "\n",
      " --  ElasticNet(alpha=0.001)\n",
      "outsample: 0.02131195291957298, insample: 0.04226729445193274\n",
      "\n",
      " --  ElasticNet(alpha=0.0005)\n",
      "outsample: 0.02707000883589414, insample: 0.049698199854371926\n",
      "\n",
      " --  ElasticNet(alpha=0.0002)\n",
      "outsample: 0.02974822373493783, insample: 0.0562419107394135\n",
      "\n",
      " --  ElasticNet(alpha=0.0001)\n",
      "outsample: 0.02990427230685413, insample: 0.059033260205758886\n",
      "\n",
      " --  ElasticNet(alpha=5e-05)\n",
      "outsample: 0.02936658675779768, insample: 0.06086653413369705\n",
      "\n",
      " --  ElasticNet(alpha=2e-05)\n",
      "outsample: 0.028721552143356078, insample: 0.06224107828068205\n",
      "\n",
      " --  ElasticNet(alpha=1e-05)\n",
      "outsample: 0.02842539152755164, insample: 0.06257805573337677\n",
      "\n",
      " --  XGBRegressor(base_score=None, booster=None, colsample_bylevel=None,\n",
      "             colsample_bynode=None, colsample_bytree=None, gamma=None,\n",
      "             gpu_id=None, importance_type='gain', interaction_constraints=None,\n",
      "             learning_rate=None, max_delta_step=None, max_depth=None,\n",
      "             min_child_weight=None, missing=nan, monotone_constraints=None,\n",
      "             n_estimators=100, n_jobs=-1, num_parallel_tree=None,\n",
      "             random_state=None, reg_alpha=None, reg_lambda=None,\n",
      "             scale_pos_weight=None, subsample=None, tree_method=None,\n",
      "             validate_parameters=None, verbosity=None)\n",
      "outsample: 0.024815763345799297, insample: 0.40330481408648206\n",
      "\n",
      " --  XGBRegressor(base_score=None, booster=None, colsample_bylevel=None,\n",
      "             colsample_bynode=None, colsample_bytree=None, gamma=None,\n",
      "             gpu_id=None, importance_type='gain', interaction_constraints=None,\n",
      "             learning_rate=0.01, max_delta_step=None, max_depth=None,\n",
      "             min_child_weight=None, missing=nan, monotone_constraints=None,\n",
      "             n_estimators=1000, n_jobs=-1, num_parallel_tree=None,\n",
      "             random_state=None, reg_alpha=None, reg_lambda=None,\n",
      "             scale_pos_weight=None, subsample=None, tree_method=None,\n",
      "             validate_parameters=None, verbosity=None)\n",
      "outsample: 0.03659074980295987, insample: 0.34474251174858633\n",
      "\n",
      " --  XGBRegressor(base_score=None, booster=None, colsample_bylevel=None,\n",
      "             colsample_bynode=None, colsample_bytree=0.1, gamma=None,\n",
      "             gpu_id=None, importance_type='gain', interaction_constraints=None,\n",
      "             learning_rate=0.01, max_delta_step=None, max_depth=None,\n",
      "             min_child_weight=None, missing=nan, monotone_constraints=None,\n",
      "             n_estimators=1000, n_jobs=-1, num_parallel_tree=None,\n",
      "             random_state=None, reg_alpha=None, reg_lambda=None,\n",
      "             scale_pos_weight=None, subsample=None, tree_method=None,\n",
      "             validate_parameters=None, verbosity=None)\n",
      "outsample: 0.038992883168818326, insample: 0.3112294161123116\n",
      "\n",
      " --  XGBRegressor(base_score=None, booster=None, colsample_bylevel=None,\n",
      "             colsample_bynode=None, colsample_bytree=0.1, gamma=None,\n",
      "             gpu_id=None, importance_type='gain', interaction_constraints=None,\n",
      "             learning_rate=0.01, max_delta_step=None, max_depth=5,\n",
      "             min_child_weight=None, missing=nan, monotone_constraints=None,\n",
      "             n_estimators=1000, n_jobs=-1, num_parallel_tree=None,\n",
      "             random_state=None, reg_alpha=None, reg_lambda=None,\n",
      "             scale_pos_weight=None, subsample=None, tree_method=None,\n",
      "             validate_parameters=None, verbosity=None)\n",
      "outsample: 0.038917892299037096, insample: 0.2019316218055606\n",
      "\n",
      " --  XGBRegressor(base_score=None, booster=None, colsample_bylevel=None,\n",
      "             colsample_bynode=None, colsample_bytree=0.1, gamma=None,\n",
      "             gpu_id=None, importance_type='gain', interaction_constraints=None,\n",
      "             learning_rate=0.001, max_delta_step=None, max_depth=5,\n",
      "             min_child_weight=None, missing=nan, monotone_constraints=None,\n",
      "             n_estimators=10000, n_jobs=-1, num_parallel_tree=None,\n",
      "             random_state=None, reg_alpha=None, reg_lambda=None,\n",
      "             scale_pos_weight=None, subsample=None, tree_method=None,\n",
      "             validate_parameters=None, verbosity=None)\n",
      "outsample: 0.03969595738545368, insample: 0.20510257500575443\n",
      "\n"
     ]
    }
   ],
   "source": [
    "for model in models:\n",
    "    print(\" -- \", model)   \n",
    "    model.fit(df1[features], df1[target])\n",
    "    outsample = numerai_score(df2[target], pandas.Series(model.predict(df2[features]), index=df2.index))\n",
    "    insample = numerai_score(df1[target], pandas.Series(model.predict(df1[features]), index=df1.index))\n",
    "    print(\n",
    "        f\"outsample: {outsample}, insample: {insample}\"\n",
    "    )\n",
    "    print()"
   ]
  },
  {
   "cell_type": "markdown",
   "metadata": {},
   "source": [
    "## Gotcha: Models with large exposures to individual features tend to perform poorly or inconsistently out of sample ## \n"
   ]
  },
  {
   "cell_type": "code",
   "execution_count": 46,
   "metadata": {},
   "outputs": [],
   "source": [
    "import numpy as np\n",
    "import scipy"
   ]
  },
  {
   "cell_type": "code",
   "execution_count": 47,
   "metadata": {},
   "outputs": [],
   "source": [
    "# Train a standard xgboost on half the train eras\n",
    "xgb = xgboost.XGBRegressor(n_estimators=1000, max_depth=5, learning_rate=0.01, n_jobs=-1)\n",
    "xgb.fit(df1[features], df1[target])\n",
    "xgb_preds = xgb.predict(df2[features])"
   ]
  },
  {
   "cell_type": "markdown",
   "metadata": {},
   "source": [
    "### Our predictions have correlation > 0.2 in either direction for some single features!\n",
    "Sure hope those features continue to act as they have in the past!"
   ]
  },
  {
   "cell_type": "code",
   "execution_count": 48,
   "metadata": {},
   "outputs": [
    {
     "data": {
      "text/plain": [
       "count    310.000000\n",
       "mean       0.048410\n",
       "std        0.081645\n",
       "min       -0.229774\n",
       "25%        0.004178\n",
       "50%        0.045796\n",
       "75%        0.108645\n",
       "max        0.232514\n",
       "dtype: float64"
      ]
     },
     "execution_count": 48,
     "metadata": {},
     "output_type": "execute_result"
    }
   ],
   "source": [
    "corr_list = []\n",
    "for feature in features:\n",
    "    corr_list.append(numpy.corrcoef(df2[feature], xgb_preds)[0,1])\n",
    "corr_series = pandas.Series(corr_list, index=features)\n",
    "corr_series.describe()"
   ]
  },
  {
   "cell_type": "code",
   "execution_count": 49,
   "metadata": {},
   "outputs": [],
   "source": [
    "from sklearn.preprocessing import MinMaxScaler\n",
    "def _neutralize(df, columns, by, proportion=1.0):\n",
    "    scores = df[columns]\n",
    "    exposures = df[by].values\n",
    "    scores = scores - proportion * exposures.dot(numpy.linalg.pinv(exposures).dot(scores))\n",
    "    return scores / scores.std(ddof=0)\n",
    "def _normalize(df):\n",
    "    X = (df.rank(method=\"first\") - 0.5) / len(df)\n",
    "    return scipy.stats.norm.ppf(X)\n",
    "def normalize_and_neutralize(df, columns, by, proportion=1.0):\n",
    "    # Convert the scores to a normal distribution\n",
    "    df[columns] = _normalize(df[columns])\n",
    "    df[columns] = _neutralize(df, columns, by, proportion)\n",
    "    return df[columns]"
   ]
  },
  {
   "cell_type": "code",
   "execution_count": 50,
   "metadata": {},
   "outputs": [
    {
     "name": "stderr",
     "output_type": "stream",
     "text": [
      "<ipython-input-50-61794ff4a72a>:1: SettingWithCopyWarning: \n",
      "A value is trying to be set on a copy of a slice from a DataFrame.\n",
      "Try using .loc[row_indexer,col_indexer] = value instead\n",
      "\n",
      "See the caveats in the documentation: https://pandas.pydata.org/pandas-docs/stable/user_guide/indexing.html#returning-a-view-versus-a-copy\n",
      "  df2[\"preds\"] = xgb_preds\n",
      "<ipython-input-50-61794ff4a72a>:2: SettingWithCopyWarning: \n",
      "A value is trying to be set on a copy of a slice from a DataFrame.\n",
      "Try using .loc[row_indexer,col_indexer] = value instead\n",
      "\n",
      "See the caveats in the documentation: https://pandas.pydata.org/pandas-docs/stable/user_guide/indexing.html#returning-a-view-versus-a-copy\n",
      "  df2[\"preds_neutralized\"] = df2.groupby(\"era\").apply(\n",
      "<ipython-input-50-61794ff4a72a>:6: SettingWithCopyWarning: \n",
      "A value is trying to be set on a copy of a slice from a DataFrame.\n",
      "Try using .loc[row_indexer,col_indexer] = value instead\n",
      "\n",
      "See the caveats in the documentation: https://pandas.pydata.org/pandas-docs/stable/user_guide/indexing.html#returning-a-view-versus-a-copy\n",
      "  df2[\"preds_neutralized\"] = scaler.fit_transform(df2[[\"preds_neutralized\"]]) # transform back to 0-1\n"
     ]
    }
   ],
   "source": [
    "df2[\"preds\"] = xgb_preds\n",
    "df2[\"preds_neutralized\"] = df2.groupby(\"era\").apply(\n",
    "    lambda x: normalize_and_neutralize(x, [\"preds\"], features, 0.5) # neutralize by 50% within each era\n",
    ")\n",
    "scaler = MinMaxScaler()\n",
    "df2[\"preds_neutralized\"] = scaler.fit_transform(df2[[\"preds_neutralized\"]]) # transform back to 0-1"
   ]
  },
  {
   "cell_type": "markdown",
   "metadata": {},
   "source": [
    "### Now our single feature exposures are much smaller"
   ]
  },
  {
   "cell_type": "code",
   "execution_count": 51,
   "metadata": {},
   "outputs": [],
   "source": [
    "corr_list2 = []\n",
    "for feature in features:\n",
    "    corr_list2.append(numpy.corrcoef(df2[feature], df2[\"preds_neutralized\"])[0,1])\n",
    "corr_series2 = pandas.Series(corr_list2, index=features)"
   ]
  },
  {
   "cell_type": "code",
   "execution_count": 52,
   "metadata": {},
   "outputs": [
    {
     "data": {
      "text/plain": [
       "count    310.000000\n",
       "mean       0.036113\n",
       "std        0.053180\n",
       "min       -0.146887\n",
       "25%        0.007757\n",
       "50%        0.033742\n",
       "75%        0.075340\n",
       "max        0.155376\n",
       "dtype: float64"
      ]
     },
     "execution_count": 52,
     "metadata": {},
     "output_type": "execute_result"
    }
   ],
   "source": [
    "corr_series2.describe()"
   ]
  },
  {
   "cell_type": "markdown",
   "metadata": {},
   "source": [
    "### Our overall score goes down, but the scores are more consistent than before. This leads to a higher sharpe"
   ]
  },
  {
   "cell_type": "code",
   "execution_count": 53,
   "metadata": {},
   "outputs": [
    {
     "name": "stdout",
     "output_type": "stream",
     "text": [
      "score for high feature exposure: 0.03680684965579004\n",
      "score for balanced feature expo: 0.032882993969943486\n",
      "std for high feature exposure: 0.038144202181514306\n",
      "std for balanced feature expo: 0.031302217507951244\n",
      "sharpe for high feature exposure: 0.9649395596384401\n",
      "sharpe for balanced feature expo: 1.0505004625180532\n"
     ]
    }
   ],
   "source": [
    "unbalanced_scores_per_era = df2.groupby(\"era\").apply(lambda d: np.corrcoef(d[\"preds\"], d[target])[0,1])\n",
    "balanced_scores_per_era = df2.groupby(\"era\").apply(lambda d: np.corrcoef(d[\"preds_neutralized\"], d[target])[0,1])\n",
    "\n",
    "print(f\"score for high feature exposure: {unbalanced_scores_per_era.mean()}\")\n",
    "print(f\"score for balanced feature expo: {balanced_scores_per_era.mean()}\")\n",
    "\n",
    "print(f\"std for high feature exposure: {unbalanced_scores_per_era.std(ddof=0)}\")\n",
    "print(f\"std for balanced feature expo: {balanced_scores_per_era.std(ddof=0)}\")\n",
    "\n",
    "print(f\"sharpe for high feature exposure: {unbalanced_scores_per_era.mean()/unbalanced_scores_per_era.std(ddof=0)}\")\n",
    "print(f\"sharpe for balanced feature expo: {balanced_scores_per_era.mean()/balanced_scores_per_era.std(ddof=0)}\")"
   ]
  },
  {
   "cell_type": "code",
   "execution_count": 54,
   "metadata": {},
   "outputs": [
    {
     "data": {
      "text/plain": [
       "count    56.000000\n",
       "mean      0.032883\n",
       "std       0.031586\n",
       "min      -0.065154\n",
       "25%       0.013038\n",
       "50%       0.030797\n",
       "75%       0.061884\n",
       "max       0.091098\n",
       "dtype: float64"
      ]
     },
     "execution_count": 54,
     "metadata": {},
     "output_type": "execute_result"
    }
   ],
   "source": [
    "balanced_scores_per_era.describe()"
   ]
  },
  {
   "cell_type": "code",
   "execution_count": 55,
   "metadata": {},
   "outputs": [
    {
     "data": {
      "text/plain": [
       "count    56.000000\n",
       "mean      0.036807\n",
       "std       0.038489\n",
       "min      -0.085174\n",
       "25%       0.014656\n",
       "50%       0.033550\n",
       "75%       0.062175\n",
       "max       0.112687\n",
       "dtype: float64"
      ]
     },
     "execution_count": 55,
     "metadata": {},
     "output_type": "execute_result"
    }
   ],
   "source": [
    "unbalanced_scores_per_era.describe()"
   ]
  },
  {
   "cell_type": "code",
   "execution_count": null,
   "metadata": {},
   "outputs": [],
   "source": []
  }
 ],
 "metadata": {
  "kernelspec": {
   "display_name": "Python 3",
   "language": "python",
   "name": "python3"
  },
  "language_info": {
   "codemirror_mode": {
    "name": "ipython",
    "version": 3
   },
   "file_extension": ".py",
   "mimetype": "text/x-python",
   "name": "python",
   "nbconvert_exporter": "python",
   "pygments_lexer": "ipython3",
   "version": "3.8.5"
  },
  "pycharm": {
   "stem_cell": {
    "cell_type": "raw",
    "metadata": {
     "collapsed": false
    },
    "source": []
   }
  }
 },
 "nbformat": 4,
 "nbformat_minor": 4
}
